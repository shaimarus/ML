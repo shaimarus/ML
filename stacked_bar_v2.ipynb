{
 "cells": [
  {
   "cell_type": "code",
   "execution_count": 1,
   "metadata": {},
   "outputs": [],
   "source": [
    "import pandas as pd\n",
    "import numpy as np\n",
    "import matplotlib.pyplot as plt\n"
   ]
  },
  {
   "cell_type": "code",
   "execution_count": 2,
   "metadata": {},
   "outputs": [
    {
     "data": {
      "text/html": [
       "<div>\n",
       "<style scoped>\n",
       "    .dataframe tbody tr th:only-of-type {\n",
       "        vertical-align: middle;\n",
       "    }\n",
       "\n",
       "    .dataframe tbody tr th {\n",
       "        vertical-align: top;\n",
       "    }\n",
       "\n",
       "    .dataframe thead th {\n",
       "        text-align: right;\n",
       "    }\n",
       "</style>\n",
       "<table border=\"1\" class=\"dataframe\">\n",
       "  <thead>\n",
       "    <tr style=\"text-align: right;\">\n",
       "      <th></th>\n",
       "      <th>a</th>\n",
       "      <th>b</th>\n",
       "      <th>c</th>\n",
       "      <th>d</th>\n",
       "      <th>f</th>\n",
       "    </tr>\n",
       "  </thead>\n",
       "  <tbody>\n",
       "    <tr>\n",
       "      <th>0</th>\n",
       "      <td>0.872528</td>\n",
       "      <td>0.290747</td>\n",
       "      <td>0.378637</td>\n",
       "      <td>0.617672</td>\n",
       "      <td>0.452422</td>\n",
       "    </tr>\n",
       "    <tr>\n",
       "      <th>1</th>\n",
       "      <td>0.548404</td>\n",
       "      <td>0.227635</td>\n",
       "      <td>0.092443</td>\n",
       "      <td>0.924086</td>\n",
       "      <td>0.910704</td>\n",
       "    </tr>\n",
       "    <tr>\n",
       "      <th>2</th>\n",
       "      <td>0.152848</td>\n",
       "      <td>0.384304</td>\n",
       "      <td>0.822392</td>\n",
       "      <td>0.669626</td>\n",
       "      <td>0.657017</td>\n",
       "    </tr>\n",
       "    <tr>\n",
       "      <th>3</th>\n",
       "      <td>0.875684</td>\n",
       "      <td>0.732919</td>\n",
       "      <td>0.869195</td>\n",
       "      <td>0.525480</td>\n",
       "      <td>0.240903</td>\n",
       "    </tr>\n",
       "    <tr>\n",
       "      <th>4</th>\n",
       "      <td>0.674855</td>\n",
       "      <td>0.311210</td>\n",
       "      <td>0.250481</td>\n",
       "      <td>0.674895</td>\n",
       "      <td>0.556538</td>\n",
       "    </tr>\n",
       "    <tr>\n",
       "      <th>5</th>\n",
       "      <td>0.806685</td>\n",
       "      <td>0.648253</td>\n",
       "      <td>0.407254</td>\n",
       "      <td>0.158980</td>\n",
       "      <td>0.564235</td>\n",
       "    </tr>\n",
       "  </tbody>\n",
       "</table>\n",
       "</div>"
      ],
      "text/plain": [
       "          a         b         c         d         f\n",
       "0  0.872528  0.290747  0.378637  0.617672  0.452422\n",
       "1  0.548404  0.227635  0.092443  0.924086  0.910704\n",
       "2  0.152848  0.384304  0.822392  0.669626  0.657017\n",
       "3  0.875684  0.732919  0.869195  0.525480  0.240903\n",
       "4  0.674855  0.311210  0.250481  0.674895  0.556538\n",
       "5  0.806685  0.648253  0.407254  0.158980  0.564235"
      ]
     },
     "execution_count": 2,
     "metadata": {},
     "output_type": "execute_result"
    }
   ],
   "source": [
    "df1=pd.DataFrame(np.random.rand(6,5),columns=list('abcdf'))\n",
    "df1"
   ]
  },
  {
   "cell_type": "code",
   "execution_count": 3,
   "metadata": {},
   "outputs": [],
   "source": [
    "\n",
    "def best_offer3(x,y,z,delta):\n",
    "    list1=[]\n",
    "    list1.append(x)\n",
    "    list1.append(y)\n",
    "    list1.append(z)\n",
    "    return list1   \n",
    "\n",
    "def best_offer4(x,y,z,delta):\n",
    "    \n",
    "    max_elem=np.max(best_offer3(x,y,z,delta))\n",
    "    index_max_elem=best_offer3(x,y,z,delta).index(max_elem)\n",
    "    t=best_offer3(x,y,z,delta)\n",
    "    t.remove(max_elem)\n",
    "    second_max_elem=np.max(t)\n",
    "    index_second_max_elem=best_offer3(x,y,z,delta).index(second_max_elem)\n",
    "    if max_elem-second_max_elem>delta:\n",
    "        \n",
    "        a = ((index_max_elem==0 and 'a') or \n",
    "         (index_max_elem==1 and 'b') or \n",
    "         (index_max_elem==2 and 'c')\n",
    "        )\n",
    "    else:\n",
    "        a='random'\n",
    "    \n",
    "    return a\n",
    "    \n",
    "def best_offer5(delta):\n",
    "    a1='a'\n",
    "    b1='b'\n",
    "    c1='c'\n",
    "    d1='random'\n",
    "    r=df1[[a1,b1,c1]].apply(lambda x:best_offer4(x[a1],x[b1],x[c1],delta),axis=1)\n",
    "    r1=r.tolist().count(a1)\n",
    "    r2=r.tolist().count(b1)\n",
    "    r3=r.tolist().count(c1)\n",
    "    r4=r.tolist().count(d1)\n",
    "    return r1,r2,r3,r4\n",
    "    "
   ]
  },
  {
   "cell_type": "code",
   "execution_count": 4,
   "metadata": {},
   "outputs": [
    {
     "data": {
      "image/png": "[encoded data removed]",
      "text/plain": [
       "<Figure size 1332x684 with 1 Axes>"
      ]
     },
     "metadata": {
      "needs_background": "light"
     },
     "output_type": "display_data"
    },
    {
     "name": "stdout",
     "output_type": "stream",
     "text": [
      "Wall time: 5.71 s\n"
     ]
    }
   ],
   "source": [
    "%%time\n",
    "a1='a'\n",
    "b1='b'\n",
    "c1='c'\n",
    "d1='random'\n",
    "\n",
    "bins=150\n",
    "list2=[]\n",
    "for i in np.linspace(0,1,bins):\n",
    "    list2.append(best_offer5(i))\n",
    "\n",
    "a=[x[0] for x in list2]\n",
    "b=[x[1] for x in list2]\n",
    "c=[x[2] for x in list2]\n",
    "d=[x[3] for x in list2]\n",
    "r = np.arange(bins)\n",
    "raw_data = {a1: a, b1: b,c1: c,d1: d}\n",
    "df = pd.DataFrame(raw_data)  \n",
    "\n",
    "df['totals']=df.sum(axis=1)\n",
    "percents = df.div(df['totals'], axis=0)\n",
    "percents=percents.drop('totals', axis=1)*100\n",
    "\n",
    "fig = plt.gcf()\n",
    "barWidth = 0.85\n",
    "plt.bar(r, percents[a1], color='#b5ffb9',edgecolor='white',width=barWidth,label=a1)\n",
    "plt.bar(r, percents[b1], bottom=percents[a1], color='#f9bc86',edgecolor='white', width=barWidth,label=b1)\n",
    "plt.bar(r, percents[c1], bottom=percents[a1]+percents[b1], color='#a3acff',edgecolor='white', width=barWidth,label=c1)\n",
    "plt.bar(r, percents[d1], bottom=percents[a1]+percents[b1]+percents[c1], color='gold',edgecolor='white', width=barWidth,label=d1)\n",
    "plt.xticks(r, [round(i/(bins-1),2) for i in range(bins)])\n",
    "plt.legend()\n",
    "plt.xlabel('delta')\n",
    "plt.ylabel('percentage')\n",
    "fig.set_size_inches(18.5, 9.5, forward=True)\n",
    "plt.show()"
   ]
  },
  {
   "cell_type": "code",
   "execution_count": null,
   "metadata": {},
   "outputs": [],
   "source": []
  },
  {
   "cell_type": "code",
   "execution_count": null,
   "metadata": {},
   "outputs": [],
   "source": [
    "\n"
   ]
  },
  {
   "cell_type": "code",
   "execution_count": null,
   "metadata": {},
   "outputs": [],
   "source": [
    "\n"
   ]
  },
  {
   "cell_type": "code",
   "execution_count": null,
   "metadata": {},
   "outputs": [],
   "source": []
  },
  {
   "cell_type": "code",
   "execution_count": null,
   "metadata": {},
   "outputs": [],
   "source": []
  }
 ],
 "metadata": {
  "kernelspec": {
   "display_name": "Python 3",
   "language": "python",
   "name": "python3"
  },
  "language_info": {
   "codemirror_mode": {
    "name": "ipython",
    "version": 3
   },
   "file_extension": ".py",
   "mimetype": "text/x-python",
   "name": "python",
   "nbconvert_exporter": "python",
   "pygments_lexer": "ipython3",
   "version": "3.7.0"
  }
 },
 "nbformat": 4,
 "nbformat_minor": 2
}
