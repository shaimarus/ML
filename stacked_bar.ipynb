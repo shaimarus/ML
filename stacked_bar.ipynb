{
 "cells": [
  {
   "cell_type": "code",
   "execution_count": 1,
   "metadata": {},
   "outputs": [],
   "source": [
    "import pandas as pd\n",
    "import numpy as np\n",
    "import matplotlib.pyplot as plt\n"
   ]
  },
  {
   "cell_type": "code",
   "execution_count": 7,
   "metadata": {},
   "outputs": [
    {
     "data": {
      "text/html": [
       "<div>\n",
       "<style scoped>\n",
       "    .dataframe tbody tr th:only-of-type {\n",
       "        vertical-align: middle;\n",
       "    }\n",
       "\n",
       "    .dataframe tbody tr th {\n",
       "        vertical-align: top;\n",
       "    }\n",
       "\n",
       "    .dataframe thead th {\n",
       "        text-align: right;\n",
       "    }\n",
       "</style>\n",
       "<table border=\"1\" class=\"dataframe\">\n",
       "  <thead>\n",
       "    <tr style=\"text-align: right;\">\n",
       "      <th></th>\n",
       "      <th>a</th>\n",
       "      <th>b</th>\n",
       "      <th>c</th>\n",
       "      <th>d</th>\n",
       "      <th>f</th>\n",
       "    </tr>\n",
       "  </thead>\n",
       "  <tbody>\n",
       "    <tr>\n",
       "      <th>0</th>\n",
       "      <td>0.874341</td>\n",
       "      <td>0.714894</td>\n",
       "      <td>0.239894</td>\n",
       "      <td>0.303519</td>\n",
       "      <td>0.088074</td>\n",
       "    </tr>\n",
       "    <tr>\n",
       "      <th>1</th>\n",
       "      <td>0.743532</td>\n",
       "      <td>0.150198</td>\n",
       "      <td>0.267184</td>\n",
       "      <td>0.690436</td>\n",
       "      <td>0.245504</td>\n",
       "    </tr>\n",
       "    <tr>\n",
       "      <th>2</th>\n",
       "      <td>0.741551</td>\n",
       "      <td>0.266268</td>\n",
       "      <td>0.970660</td>\n",
       "      <td>0.842890</td>\n",
       "      <td>0.814181</td>\n",
       "    </tr>\n",
       "    <tr>\n",
       "      <th>3</th>\n",
       "      <td>0.466497</td>\n",
       "      <td>0.760945</td>\n",
       "      <td>0.560069</td>\n",
       "      <td>0.202495</td>\n",
       "      <td>0.162911</td>\n",
       "    </tr>\n",
       "    <tr>\n",
       "      <th>4</th>\n",
       "      <td>0.663385</td>\n",
       "      <td>0.460105</td>\n",
       "      <td>0.201470</td>\n",
       "      <td>0.663109</td>\n",
       "      <td>0.511909</td>\n",
       "    </tr>\n",
       "    <tr>\n",
       "      <th>5</th>\n",
       "      <td>0.700317</td>\n",
       "      <td>0.768014</td>\n",
       "      <td>0.287258</td>\n",
       "      <td>0.076323</td>\n",
       "      <td>0.334935</td>\n",
       "    </tr>\n",
       "  </tbody>\n",
       "</table>\n",
       "</div>"
      ],
      "text/plain": [
       "          a         b         c         d         f\n",
       "0  0.874341  0.714894  0.239894  0.303519  0.088074\n",
       "1  0.743532  0.150198  0.267184  0.690436  0.245504\n",
       "2  0.741551  0.266268  0.970660  0.842890  0.814181\n",
       "3  0.466497  0.760945  0.560069  0.202495  0.162911\n",
       "4  0.663385  0.460105  0.201470  0.663109  0.511909\n",
       "5  0.700317  0.768014  0.287258  0.076323  0.334935"
      ]
     },
     "execution_count": 7,
     "metadata": {},
     "output_type": "execute_result"
    }
   ],
   "source": [
    "df1=pd.DataFrame(np.random.rand(6,5),columns=list('abcdf'))\n",
    "df1"
   ]
  },
  {
   "cell_type": "code",
   "execution_count": 8,
   "metadata": {},
   "outputs": [],
   "source": [
    "def best_offer3(x,y,z,delta):\n",
    "    list1=[]\n",
    "    list1.append(x)\n",
    "    list1.append(y)\n",
    "    list1.append(z)\n",
    "    return list1   \n",
    "\n",
    "def best_offer4(x,y,z,delta):\n",
    "    \n",
    "    max_elem=np.max(best_offer3(x,y,z,delta))\n",
    "    index_max_elem=best_offer3(x,y,z,delta).index(max_elem)\n",
    "    t=best_offer3(x,y,z,delta)\n",
    "    t.remove(max_elem)\n",
    "    second_max_elem=np.max(t)\n",
    "    index_second_max_elem=best_offer3(x,y,z,delta).index(second_max_elem)\n",
    "    if max_elem-second_max_elem>delta:\n",
    "        \n",
    "        a = ((index_max_elem==0 and 'a') or \n",
    "         (index_max_elem==1 and 'b') or \n",
    "         (index_max_elem==2 and 'c')\n",
    "        )\n",
    "    else:\n",
    "        a='random'\n",
    "    \n",
    "    return a\n",
    "    \n",
    "def best_offer5(delta):\n",
    "    r=df1[['a','b','c']].apply(lambda x:best_offer4(x['a'],x['b'],x['c'],delta),axis=1)\n",
    "    r1=r.tolist().count('a')\n",
    "    r2=r.tolist().count('b')\n",
    "    r3=r.tolist().count('c')\n",
    "    r4=r.tolist().count('random')\n",
    "    return r1,r2,r3,r4\n",
    "    "
   ]
  },
  {
   "cell_type": "code",
   "execution_count": 12,
   "metadata": {},
   "outputs": [
    {
     "data": {
      "image/png": "[encoded data removed]",
      "text/plain": [
       "<Figure size 1332x684 with 1 Axes>"
      ]
     },
     "metadata": {
      "needs_background": "light"
     },
     "output_type": "display_data"
    },
    {
     "name": "stdout",
     "output_type": "stream",
     "text": [
      "Wall time: 1.97 s\n"
     ]
    }
   ],
   "source": [
    "%%time\n",
    "bins=50\n",
    "list2=[]\n",
    "for i in np.linspace(0,1,bins):\n",
    "    list2.append(best_offer5(i))\n",
    "\n",
    "a=[x[0] for x in list2]\n",
    "b=[x[1] for x in list2]\n",
    "c=[x[2] for x in list2]\n",
    "d=[x[3] for x in list2]\n",
    "r = np.arange(bins)\n",
    "raw_data = {'a': a, 'b': b,'c': c,'d': d}\n",
    "df = pd.DataFrame(raw_data)  \n",
    "\n",
    "df['totals']=df.sum(axis=1)\n",
    "percents = df.div(df['totals'], axis=0)\n",
    "percents=percents.drop('totals', axis=1)*100\n",
    "\n",
    "fig = plt.gcf()\n",
    "barWidth = 0.85\n",
    "plt.bar(r, percents['a'], color='#b5ffb9',edgecolor='white',width=barWidth,label='a')\n",
    "plt.bar(r, percents['b'], bottom=percents['a'], color='#f9bc86',edgecolor='white', width=barWidth,label='b')\n",
    "plt.bar(r, percents['c'], bottom=percents['a']+percents['b'], color='#a3acff',edgecolor='white', width=barWidth,label='c')\n",
    "plt.bar(r, percents['d'], bottom=percents['a']+percents['b']+percents['c'], color='gold',edgecolor='white', width=barWidth,label='d')\n",
    "plt.xticks(r, [round(i/(bins-1),2) for i in range(bins)])\n",
    "plt.legend()\n",
    "plt.xlabel('delta')\n",
    "plt.ylabel('percentage')\n",
    "fig.set_size_inches(18.5, 9.5, forward=True)\n",
    "plt.show()"
   ]
  },
  {
   "cell_type": "code",
   "execution_count": null,
   "metadata": {},
   "outputs": [],
   "source": []
  },
  {
   "cell_type": "code",
   "execution_count": null,
   "metadata": {},
   "outputs": [],
   "source": [
    "\n"
   ]
  },
  {
   "cell_type": "code",
   "execution_count": null,
   "metadata": {},
   "outputs": [],
   "source": [
    "\n"
   ]
  },
  {
   "cell_type": "code",
   "execution_count": null,
   "metadata": {},
   "outputs": [],
   "source": []
  },
  {
   "cell_type": "code",
   "execution_count": null,
   "metadata": {},
   "outputs": [],
   "source": []
  }
 ],
 "metadata": {
  "kernelspec": {
   "display_name": "Python 3",
   "language": "python",
   "name": "python3"
  },
  "language_info": {
   "codemirror_mode": {
    "name": "ipython",
    "version": 3
   },
   "file_extension": ".py",
   "mimetype": "text/x-python",
   "name": "python",
   "nbconvert_exporter": "python",
   "pygments_lexer": "ipython3",
   "version": "3.7.0"
  }
 },
 "nbformat": 4,
 "nbformat_minor": 2
}
