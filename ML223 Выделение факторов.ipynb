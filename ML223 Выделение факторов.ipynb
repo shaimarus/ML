{
 "cells": [
  {
   "cell_type": "markdown",
   "metadata": {},
   "source": [
    "# Выделение факторов\n",
    "Оставим только наиболее значащие факторы из всех\n",
    "### Данные\n",
    "* https://video.ittensive.com/machine-learning/hacktherealty/exposition_train.csv.gz"
   ]
  },
  {
   "cell_type": "markdown",
   "metadata": {
    "id": "OKWUgpUpAJrv"
   },
   "source": [
    "### Подключение библиотек"
   ]
  },
  {
   "cell_type": "code",
   "execution_count": 1,
   "metadata": {
    "id": "BMMIDKFYAJGG"
   },
   "outputs": [],
   "source": [
    "import pandas as pd\n",
    "import numpy as np\n",
    "from sklearn.linear_model import LinearRegression"
   ]
  },
  {
   "cell_type": "markdown",
   "metadata": {},
   "source": [
    "### Загрузка данных"
   ]
  },
  {
   "cell_type": "code",
   "execution_count": 2,
   "metadata": {},
   "outputs": [
    {
     "name": "stderr",
     "output_type": "stream",
     "text": [
      "c:\\users\\lenovo pc\\appdata\\local\\programs\\python\\python38\\lib\\site-packages\\IPython\\core\\interactiveshell.py:3062: DtypeWarning: Columns (1516) have mixed types.Specify dtype option on import or set low_memory=False.\n",
      "  has_raised = await self.run_ast_nodes(code_ast.body, cell_name,\n"
     ]
    },
    {
     "data": {
      "text/html": [
       "<div>\n",
       "<style scoped>\n",
       "    .dataframe tbody tr th:only-of-type {\n",
       "        vertical-align: middle;\n",
       "    }\n",
       "\n",
       "    .dataframe tbody tr th {\n",
       "        vertical-align: top;\n",
       "    }\n",
       "\n",
       "    .dataframe thead th {\n",
       "        text-align: right;\n",
       "    }\n",
       "</style>\n",
       "<table border=\"1\" class=\"dataframe\">\n",
       "  <thead>\n",
       "    <tr style=\"text-align: right;\">\n",
       "      <th></th>\n",
       "      <th>building_series_id</th>\n",
       "      <th>target</th>\n",
       "      <th>parking</th>\n",
       "      <th>build_year</th>\n",
       "      <th>expect_demolition</th>\n",
       "      <th>latitude</th>\n",
       "      <th>total_area</th>\n",
       "      <th>ceiling_height</th>\n",
       "      <th>rooms</th>\n",
       "      <th>floors_total</th>\n",
       "      <th>...</th>\n",
       "      <th>metro_station_Kuznetskij most</th>\n",
       "      <th>metro_station_Aleksandrovskij sad</th>\n",
       "      <th>metro_station_Borovitskaja</th>\n",
       "      <th>metro_station_Lubjanka</th>\n",
       "      <th>metro_station_Teletsentr</th>\n",
       "      <th>metro_station_Ploschad' Revoljutsii</th>\n",
       "      <th>metro_station_Rumjantsevo</th>\n",
       "      <th>metro_station_Partizanskaja</th>\n",
       "      <th>price_locality_name_median</th>\n",
       "      <th>price_metro_station_median</th>\n",
       "    </tr>\n",
       "  </thead>\n",
       "  <tbody>\n",
       "    <tr>\n",
       "      <th>0</th>\n",
       "      <td>1564812</td>\n",
       "      <td>1</td>\n",
       "      <td>OPEN</td>\n",
       "      <td>2005</td>\n",
       "      <td>0</td>\n",
       "      <td>55.645313</td>\n",
       "      <td>105.000000</td>\n",
       "      <td>3.00</td>\n",
       "      <td>3</td>\n",
       "      <td>20</td>\n",
       "      <td>...</td>\n",
       "      <td>0</td>\n",
       "      <td>0</td>\n",
       "      <td>0</td>\n",
       "      <td>0</td>\n",
       "      <td>0</td>\n",
       "      <td>0</td>\n",
       "      <td>0</td>\n",
       "      <td>0</td>\n",
       "      <td>2.261905</td>\n",
       "      <td>2.500000</td>\n",
       "    </tr>\n",
       "    <tr>\n",
       "      <th>1</th>\n",
       "      <td>1564812</td>\n",
       "      <td>2</td>\n",
       "      <td>CLOSED</td>\n",
       "      <td>2010</td>\n",
       "      <td>0</td>\n",
       "      <td>55.537102</td>\n",
       "      <td>40.000000</td>\n",
       "      <td>3.00</td>\n",
       "      <td>1</td>\n",
       "      <td>3</td>\n",
       "      <td>...</td>\n",
       "      <td>0</td>\n",
       "      <td>0</td>\n",
       "      <td>0</td>\n",
       "      <td>0</td>\n",
       "      <td>0</td>\n",
       "      <td>0</td>\n",
       "      <td>0</td>\n",
       "      <td>0</td>\n",
       "      <td>1.000000</td>\n",
       "      <td>1.086957</td>\n",
       "    </tr>\n",
       "    <tr>\n",
       "      <th>2</th>\n",
       "      <td>663302</td>\n",
       "      <td>2</td>\n",
       "      <td>OPEN</td>\n",
       "      <td>1995</td>\n",
       "      <td>0</td>\n",
       "      <td>55.662956</td>\n",
       "      <td>37.599998</td>\n",
       "      <td>2.64</td>\n",
       "      <td>0</td>\n",
       "      <td>17</td>\n",
       "      <td>...</td>\n",
       "      <td>0</td>\n",
       "      <td>0</td>\n",
       "      <td>0</td>\n",
       "      <td>0</td>\n",
       "      <td>0</td>\n",
       "      <td>0</td>\n",
       "      <td>0</td>\n",
       "      <td>0</td>\n",
       "      <td>0.619048</td>\n",
       "      <td>0.553191</td>\n",
       "    </tr>\n",
       "    <tr>\n",
       "      <th>3</th>\n",
       "      <td>1564812</td>\n",
       "      <td>2</td>\n",
       "      <td>OPEN</td>\n",
       "      <td>2018</td>\n",
       "      <td>0</td>\n",
       "      <td>55.669151</td>\n",
       "      <td>80.000000</td>\n",
       "      <td>3.00</td>\n",
       "      <td>3</td>\n",
       "      <td>27</td>\n",
       "      <td>...</td>\n",
       "      <td>0</td>\n",
       "      <td>0</td>\n",
       "      <td>0</td>\n",
       "      <td>0</td>\n",
       "      <td>0</td>\n",
       "      <td>0</td>\n",
       "      <td>0</td>\n",
       "      <td>0</td>\n",
       "      <td>1.250000</td>\n",
       "      <td>1.521739</td>\n",
       "    </tr>\n",
       "    <tr>\n",
       "      <th>4</th>\n",
       "      <td>1564812</td>\n",
       "      <td>3</td>\n",
       "      <td>UNKNOWN</td>\n",
       "      <td>2004</td>\n",
       "      <td>0</td>\n",
       "      <td>55.828518</td>\n",
       "      <td>100.000000</td>\n",
       "      <td>3.00</td>\n",
       "      <td>3</td>\n",
       "      <td>4</td>\n",
       "      <td>...</td>\n",
       "      <td>0</td>\n",
       "      <td>0</td>\n",
       "      <td>0</td>\n",
       "      <td>0</td>\n",
       "      <td>0</td>\n",
       "      <td>0</td>\n",
       "      <td>0</td>\n",
       "      <td>0</td>\n",
       "      <td>1.904762</td>\n",
       "      <td>2.000000</td>\n",
       "    </tr>\n",
       "  </tbody>\n",
       "</table>\n",
       "<p>5 rows × 1750 columns</p>\n",
       "</div>"
      ],
      "text/plain": [
       "   building_series_id  target  parking  build_year  expect_demolition  \\\n",
       "0             1564812       1     OPEN        2005                  0   \n",
       "1             1564812       2   CLOSED        2010                  0   \n",
       "2              663302       2     OPEN        1995                  0   \n",
       "3             1564812       2     OPEN        2018                  0   \n",
       "4             1564812       3  UNKNOWN        2004                  0   \n",
       "\n",
       "    latitude  total_area  ceiling_height  rooms  floors_total  ...  \\\n",
       "0  55.645313  105.000000            3.00      3            20  ...   \n",
       "1  55.537102   40.000000            3.00      1             3  ...   \n",
       "2  55.662956   37.599998            2.64      0            17  ...   \n",
       "3  55.669151   80.000000            3.00      3            27  ...   \n",
       "4  55.828518  100.000000            3.00      3             4  ...   \n",
       "\n",
       "   metro_station_Kuznetskij most  metro_station_Aleksandrovskij sad  \\\n",
       "0                              0                                  0   \n",
       "1                              0                                  0   \n",
       "2                              0                                  0   \n",
       "3                              0                                  0   \n",
       "4                              0                                  0   \n",
       "\n",
       "   metro_station_Borovitskaja  metro_station_Lubjanka  \\\n",
       "0                           0                       0   \n",
       "1                           0                       0   \n",
       "2                           0                       0   \n",
       "3                           0                       0   \n",
       "4                           0                       0   \n",
       "\n",
       "   metro_station_Teletsentr  metro_station_Ploschad' Revoljutsii  \\\n",
       "0                         0                                    0   \n",
       "1                         0                                    0   \n",
       "2                         0                                    0   \n",
       "3                         0                                    0   \n",
       "4                         0                                    0   \n",
       "\n",
       "   metro_station_Rumjantsevo  metro_station_Partizanskaja  \\\n",
       "0                          0                            0   \n",
       "1                          0                            0   \n",
       "2                          0                            0   \n",
       "3                          0                            0   \n",
       "4                          0                            0   \n",
       "\n",
       "   price_locality_name_median price_metro_station_median  \n",
       "0                    2.261905                   2.500000  \n",
       "1                    1.000000                   1.086957  \n",
       "2                    0.619048                   0.553191  \n",
       "3                    1.250000                   1.521739  \n",
       "4                    1.904762                   2.000000  \n",
       "\n",
       "[5 rows x 1750 columns]"
      ]
     },
     "execution_count": 2,
     "metadata": {},
     "output_type": "execute_result"
    }
   ],
   "source": [
    "train_data = pd.read_csv('exposition_train.csv')\n",
    "train_data.head()"
   ]
  },
  {
   "cell_type": "markdown",
   "metadata": {},
   "source": [
    "Удаляем текстовые атрибуты, они уже разложены в единичные векторы"
   ]
  },
  {
   "cell_type": "code",
   "execution_count": 3,
   "metadata": {},
   "outputs": [],
   "source": [
    "train_data = train_data.drop(labels=[\"parking\", \"building_type\", \"balcony\",\n",
    "                                     \"renovation\", \"locality_name\", \"metro_station\"], axis=1)"
   ]
  },
  {
   "cell_type": "markdown",
   "metadata": {},
   "source": [
    "### Тестирование корреляции параметров"
   ]
  },
  {
   "cell_type": "code",
   "execution_count": 4,
   "metadata": {},
   "outputs": [
    {
     "name": "stdout",
     "output_type": "stream",
     "text": [
      "total_area 0.047077452744266224\n",
      "ceiling_height 0.018411055819145816\n",
      "rooms 0.03143849382456698\n",
      "living_area 0.04014277880539696\n",
      "price 0.01283942521085768\n",
      "day_mean 0.042714580731351814\n",
      "doy_108 0.010704859943396428\n",
      "price_locality_name_median 0.011666225448715317\n"
     ]
    }
   ],
   "source": [
    "best_features = []\n",
    "y = train_data[\"target\"]\n",
    "features_to_test = list(train_data.columns)\n",
    "for feature in train_data.columns:\n",
    "    if type(train_data[feature].values[0]) is not str and feature.find(\"target\") == -1:\n",
    "        x_feature = pd.DataFrame(train_data[feature])\n",
    "        score = LinearRegression().fit(x_feature, y).score(x_feature, y)\n",
    "# R^2 >= 0.01, r >= 0.1, 10%\n",
    "        if score > 0.01:\n",
    "            print (feature, score)\n",
    "            best_features.append(feature)"
   ]
  },
  {
   "cell_type": "code",
   "execution_count": 5,
   "metadata": {},
   "outputs": [
    {
     "name": "stdout",
     "output_type": "stream",
     "text": [
      "Наиболее важные параметры: ['total_area', 'ceiling_height', 'rooms', 'living_area', 'price', 'day_mean', 'doy_108', 'price_locality_name_median']\n"
     ]
    }
   ],
   "source": [
    "print (\"Наиболее важные параметры:\", best_features)"
   ]
  },
  {
   "cell_type": "code",
   "execution_count": 6,
   "metadata": {},
   "outputs": [],
   "source": [
    "best_features.append(\"target\")"
   ]
  },
  {
   "cell_type": "markdown",
   "metadata": {},
   "source": [
    "### Сохранение данных"
   ]
  },
  {
   "cell_type": "code",
   "execution_count": 7,
   "metadata": {},
   "outputs": [],
   "source": [
    "train_data[best_features].to_csv(\"exposition_train.basic.csv\", index=False)"
   ]
  }
 ],
 "metadata": {
  "colab": {
   "collapsed_sections": [],
   "name": "Finally.ipynb",
   "provenance": []
  },
  "kernelspec": {
   "display_name": "Python 3",
   "language": "python",
   "name": "python3"
  },
  "language_info": {
   "codemirror_mode": {
    "name": "ipython",
    "version": 3
   },
   "file_extension": ".py",
   "mimetype": "text/x-python",
   "name": "python",
   "nbconvert_exporter": "python",
   "pygments_lexer": "ipython3",
   "version": "3.8.3"
  }
 },
 "nbformat": 4,
 "nbformat_minor": 1
}
