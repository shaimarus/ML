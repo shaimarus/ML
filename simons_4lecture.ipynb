{
 "cells": [
  {
   "cell_type": "code",
   "execution_count": 2,
   "metadata": {},
   "outputs": [],
   "source": [
    "import torch\n",
    "import numpy as np\n",
    "import matplotlib.pyplot as plt"
   ]
  },
  {
   "cell_type": "markdown",
   "metadata": {},
   "source": [
    "# Регрессия, низкоуровневая реализация"
   ]
  },
  {
   "cell_type": "code",
   "execution_count": 35,
   "metadata": {
    "scrolled": true
   },
   "outputs": [],
   "source": [
    "Y=torch.Tensor(np.random.randn(2,5))\n",
    "X=torch.Tensor(np.random.randn(2,3))\n",
    "W=torch.Tensor(np.random.randn(3,5)).requires_grad_(True)\n",
    "lam=0.01\n",
    "los1=[]\n",
    "for i in range(100):\n",
    "    \n",
    "    pred=X.matmul(W)\n",
    "    pred_loss=torch.sum((pred-Y)**2)\n",
    "    reg_loss=lam*torch.sum(torch.abs(W))\n",
    "    loss=pred_loss+reg_loss\n",
    "    #print(loss.cpu().detach().numpy())\n",
    "    los1.append(loss.cpu().detach().numpy())\n",
    "    loss.backward()\n",
    "    W.data.add_(-lam*W.grad.data)\n",
    "    W.grad.zero_()"
   ]
  },
  {
   "cell_type": "code",
   "execution_count": 36,
   "metadata": {},
   "outputs": [
    {
     "data": {
      "image/png": "[encoded data removed]",
      "text/plain": [
       "<Figure size 432x288 with 1 Axes>"
      ]
     },
     "metadata": {
      "needs_background": "light"
     },
     "output_type": "display_data"
    }
   ],
   "source": [
    "plt.plot(los1[:20])\n",
    "plt.show()"
   ]
  },
  {
   "cell_type": "code",
   "execution_count": 37,
   "metadata": {},
   "outputs": [
    {
     "name": "stdout",
     "output_type": "stream",
     "text": [
      "tensor([[-1.4382, -0.8663, -1.3113,  0.3126, -0.1789],\n",
      "        [ 0.4597,  0.5414,  0.3836,  1.3760, -0.3026]], grad_fn=<MmBackward>)\n",
      "---------------------------------------------------------------------------------------\n",
      "tensor([[-1.4419, -0.8701, -1.3163,  0.3107, -0.1881],\n",
      "        [ 0.4852,  0.5833,  0.4214,  1.3852, -0.2252]])\n"
     ]
    }
   ],
   "source": [
    "print(X.matmul(W))\n",
    "print('---------------------------------------------------------------------------------------')\n",
    "print(Y)"
   ]
  },
  {
   "cell_type": "code",
   "execution_count": 38,
   "metadata": {},
   "outputs": [],
   "source": [
    "import torch.optim as optim"
   ]
  },
  {
   "cell_type": "code",
   "execution_count": 39,
   "metadata": {},
   "outputs": [
    {
     "data": {
      "text/plain": [
       "tensor([[-1.9596, -1.6313,  1.6799],\n",
       "        [ 0.4341,  0.2232,  1.2217]])"
      ]
     },
     "execution_count": 39,
     "metadata": {},
     "output_type": "execute_result"
    }
   ],
   "source": [
    "X"
   ]
  },
  {
   "cell_type": "code",
   "execution_count": 55,
   "metadata": {},
   "outputs": [
    {
     "data": {
      "text/plain": [
       "tensor([[-1.4419, -0.8701, -1.3163,  0.3107, -0.1881],\n",
       "        [ 0.4852,  0.5833,  0.4214,  1.3852, -0.2252]])"
      ]
     },
     "execution_count": 55,
     "metadata": {},
     "output_type": "execute_result"
    }
   ],
   "source": [
    "y=Y\n",
    "y"
   ]
  },
  {
   "cell_type": "markdown",
   "metadata": {},
   "source": [
    "# Регрессия на PYTORCH (Иногда сходится иногда нет)"
   ]
  },
  {
   "cell_type": "code",
   "execution_count": 117,
   "metadata": {
    "scrolled": true
   },
   "outputs": [],
   "source": [
    "\n",
    "nn=torch.nn.Sequential(  \n",
    "torch.nn.Linear(3,10),\n",
    "torch.nn.ReLU(),\n",
    "torch.nn.Linear(10,20),\n",
    "torch.nn.ReLU(),    \n",
    "torch.nn.Linear(20,8),\n",
    "torch.nn.ReLU(),    \n",
    "torch.nn.Linear(8,3),\n",
    "torch.nn.ReLU() ,\n",
    "    torch.nn.Linear(3,5)\n",
    "#  torch.nn.ReLU()   \n",
    ")\n",
    "\n",
    "optimizer=optim.Adagrad(nn.parameters(),lr=0.01,weight_decay=0.05)\n",
    "loss2=[]\n",
    "for i in range(10000):\n",
    "    optimizer.zero_grad()\n",
    "    pred=nn(X)\n",
    "    criterion=torch.nn.MSELoss()#CrossEntropyLoss()\n",
    "    loss=criterion(pred,Y)\n",
    "    loss2.append(loss.item())\n",
    "    #print(loss.item())\n",
    "    loss.backward()\n",
    "    optimizer.step()"
   ]
  },
  {
   "cell_type": "code",
   "execution_count": 118,
   "metadata": {},
   "outputs": [
    {
     "data": {
      "image/png": "[encoded data removed]",
      "text/plain": [
       "<Figure size 432x288 with 1 Axes>"
      ]
     },
     "metadata": {
      "needs_background": "light"
     },
     "output_type": "display_data"
    }
   ],
   "source": [
    "plt.plot(loss2[:200])\n",
    "plt.show()"
   ]
  },
  {
   "cell_type": "code",
   "execution_count": 119,
   "metadata": {},
   "outputs": [
    {
     "name": "stdout",
     "output_type": "stream",
     "text": [
      "tensor([[-1.3871, -0.8300, -1.2667,  0.3346, -0.1879],\n",
      "        [ 0.3443,  0.4346,  0.2975,  1.0891, -0.1803]],\n",
      "       grad_fn=<AddmmBackward>)\n",
      "---------------------------------------------------------------------------------------\n",
      "tensor([[-1.4419, -0.8701, -1.3163,  0.3107, -0.1881],\n",
      "        [ 0.4852,  0.5833,  0.4214,  1.3852, -0.2252]])\n"
     ]
    }
   ],
   "source": [
    "print(nn(X))\n",
    "print('---------------------------------------------------------------------------------------')\n",
    "print(Y)"
   ]
  },
  {
   "cell_type": "markdown",
   "metadata": {},
   "source": [
    "# Классификация на PYTORCH"
   ]
  },
  {
   "cell_type": "code",
   "execution_count": 133,
   "metadata": {},
   "outputs": [],
   "source": [
    "y=torch.LongTensor(np.random.randint(0,3,size=2))"
   ]
  },
  {
   "cell_type": "code",
   "execution_count": 134,
   "metadata": {},
   "outputs": [
    {
     "name": "stdout",
     "output_type": "stream",
     "text": [
      "tensor([[-1.9596, -1.6313,  1.6799],\n",
      "        [ 0.4341,  0.2232,  1.2217]])\n",
      "tensor([2, 1])\n"
     ]
    }
   ],
   "source": [
    "print(X)\n",
    "print(y)"
   ]
  },
  {
   "cell_type": "code",
   "execution_count": 137,
   "metadata": {},
   "outputs": [],
   "source": [
    "nn=torch.nn.Sequential(  \n",
    "torch.nn.Linear(3,10),\n",
    "torch.nn.ReLU(),\n",
    "torch.nn.Linear(10,20),\n",
    "torch.nn.ReLU(),    \n",
    "torch.nn.Linear(20,8),\n",
    "torch.nn.ReLU(),    \n",
    "torch.nn.Linear(8,3),\n",
    "torch.nn.ReLU() ,\n",
    "torch.nn.Linear(3,3)   \n",
    ")\n",
    "\n",
    "optimizer=optim.Adagrad(nn.parameters(),lr=0.01,weight_decay=0.05)\n",
    "loss2=[]\n",
    "for i in range(1000):\n",
    "    optimizer.zero_grad()\n",
    "    pred=nn(X)\n",
    "    criterion=torch.nn.CrossEntropyLoss()\n",
    "    loss=criterion(pred,y)\n",
    "    loss2.append(loss.item())\n",
    "    #print(loss.item())\n",
    "    loss.backward()\n",
    "    optimizer.step()"
   ]
  },
  {
   "cell_type": "code",
   "execution_count": 148,
   "metadata": {},
   "outputs": [
    {
     "data": {
      "image/png": "[encoded data removed]",
      "text/plain": [
       "<Figure size 432x288 with 1 Axes>"
      ]
     },
     "metadata": {
      "needs_background": "light"
     },
     "output_type": "display_data"
    }
   ],
   "source": [
    "plt.plot(loss2[:1000])\n",
    "plt.show()"
   ]
  },
  {
   "cell_type": "code",
   "execution_count": 172,
   "metadata": {},
   "outputs": [
    {
     "name": "stdout",
     "output_type": "stream",
     "text": [
      "tensor([[-2.4225, -1.6244,  2.3540],\n",
      "        [-0.5820,  2.1085, -1.5110]], grad_fn=<AddmmBackward>)\n",
      "---------------------------------------------------------------------------------------\n",
      "tensor([2, 1])\n",
      "---------------------------------------------------------------------------------------\n",
      "tensor([2, 1])\n"
     ]
    }
   ],
   "source": [
    "print(nn(X))\n",
    "print('---------------------------------------------------------------------------------------')\n",
    "print(y)\n",
    "print('---------------------------------------------------------------------------------------')\n",
    "print(torch.LongTensor(np.array([nn(X)[i].argmax().item() for i in range(2)])))\n"
   ]
  },
  {
   "cell_type": "code",
   "execution_count": 155,
   "metadata": {},
   "outputs": [
    {
     "data": {
      "text/plain": [
       "tensor(2)"
      ]
     },
     "execution_count": 155,
     "metadata": {},
     "output_type": "execute_result"
    }
   ],
   "source": [
    "X.argmax()"
   ]
  },
  {
   "cell_type": "code",
   "execution_count": null,
   "metadata": {},
   "outputs": [],
   "source": []
  },
  {
   "cell_type": "code",
   "execution_count": null,
   "metadata": {},
   "outputs": [],
   "source": []
  },
  {
   "cell_type": "code",
   "execution_count": null,
   "metadata": {},
   "outputs": [],
   "source": []
  },
  {
   "cell_type": "code",
   "execution_count": null,
   "metadata": {},
   "outputs": [],
   "source": []
  },
  {
   "cell_type": "code",
   "execution_count": null,
   "metadata": {},
   "outputs": [],
   "source": []
  }
 ],
 "metadata": {
  "kernelspec": {
   "display_name": "Python 3",
   "language": "python",
   "name": "python3"
  },
  "language_info": {
   "codemirror_mode": {
    "name": "ipython",
    "version": 3
   },
   "file_extension": ".py",
   "mimetype": "text/x-python",
   "name": "python",
   "nbconvert_exporter": "python",
   "pygments_lexer": "ipython3",
   "version": "3.6.8"
  }
 },
 "nbformat": 4,
 "nbformat_minor": 2
}
