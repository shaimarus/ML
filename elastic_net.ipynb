{
 "cells": [
  {
   "cell_type": "code",
   "execution_count": 57,
   "metadata": {},
   "outputs": [],
   "source": [
    "import pandas as pd\n",
    "from sklearn.pipeline import make_union, make_pipeline\n",
    "from sklearn.preprocessing import FunctionTransformer, LabelEncoder, MinMaxScaler,  Imputer, LabelBinarizer, OneHotEncoder,StandardScaler\n",
    "from sklearn.feature_extraction import DictVectorizer\n",
    "\n",
    "class LabelEncoderPipelineFriendly(LabelEncoder):\n",
    "    \n",
    "    def fit(self, X, y=None):\n",
    "        \"\"\"this would allow us to fit the model based on the X input.\"\"\"\n",
    "        super(LabelEncoderPipelineFriendly, self).fit(X)\n",
    "        \n",
    "    def transform(self, X, y=None):\n",
    "        return super(LabelEncoderPipelineFriendly, self).transform(X).reshape(-1, 1)\n",
    "\n",
    "    def fit_transform(self, X, y=None):\n",
    "        return super(LabelEncoderPipelineFriendly, self).fit(X).transform(X).reshape(-1, 1)"
   ]
  },
  {
   "cell_type": "code",
   "execution_count": 58,
   "metadata": {},
   "outputs": [],
   "source": [
    "df_train=pd.read_csv('E:\\\\Kaggle\\\\dont-overfit-ii\\\\train.csv')\n",
    "df_test=pd.read_csv('E:\\\\Kaggle\\\\dont-overfit-ii\\\\test.csv')"
   ]
  },
  {
   "cell_type": "code",
   "execution_count": 59,
   "metadata": {},
   "outputs": [],
   "source": [
    "def get_num_cols(df):\n",
    "    colum_ind=[]\n",
    "    for i in range(300):\n",
    "        colum_ind.append(str(i))\n",
    "    return df[colum_ind]"
   ]
  },
  {
   "cell_type": "code",
   "execution_count": 60,
   "metadata": {},
   "outputs": [],
   "source": [
    "vec = make_union(*[\n",
    "    make_pipeline(FunctionTransformer(get_num_cols, validate=False),StandardScaler() ),\n",
    "])"
   ]
  },
  {
   "cell_type": "code",
   "execution_count": 61,
   "metadata": {},
   "outputs": [],
   "source": [
    "x_train = vec.fit_transform(df_train)\n",
    "x_test = vec.transform(df_test)\n",
    "y_train = df_train['target']"
   ]
  },
  {
   "cell_type": "code",
   "execution_count": 62,
   "metadata": {},
   "outputs": [],
   "source": [
    "from sklearn.linear_model import ElasticNet\n",
    "en = ElasticNet()\n",
    "from sklearn.model_selection import GridSearchCV\n",
    "from sklearn.model_selection import train_test_split, StratifiedKFold, KFold, cross_val_score, GridSearchCV, RepeatedStratifiedKFold\n",
    "folds = StratifiedKFold(n_splits=10, shuffle=True, random_state=42)"
   ]
  },
  {
   "cell_type": "code",
   "execution_count": 64,
   "metadata": {},
   "outputs": [
    {
     "name": "stdout",
     "output_type": "stream",
     "text": [
      "Best score: 0.782638888888889\n",
      "Best parameters: {'alpha': 0.085, 'l1_ratio': 0.5}\n"
     ]
    }
   ],
   "source": [
    "#1.120,1.121,1.122,1.123,1.124,1.125,1.126,1.127,1.128,1.129\n",
    "#0.085,0.4510511,0.4520512,0.4530513,0.4540514,0.4550515,0.4560516,0.4570517,0.4580518,0.4590519\n",
    "#0.5,0.120,0.12121,0.123122,0.124123,0.125124,0.126125,0.127126,0.128127,0.129128\n",
    "parameter_grid = {'alpha' : [0.085,0.4510511,0.4520512,0.4530513,0.4540514,0.4550515,0.4560516,0.4570517,0.4580518,0.4590519],\n",
    "                  'l1_ratio' : [0.5,0.005,0.006,0.007,0.008,0.009,0.01,0.011,0.012,0.013,0.014],\n",
    "                  \n",
    "        \n",
    "                 }\n",
    "\n",
    "grid_search = GridSearchCV(en, param_grid=parameter_grid, cv=folds, scoring='roc_auc')\n",
    "grid_search.fit(x_train, y_train)\n",
    "print('Best score: {}'.format(grid_search.best_score_))\n",
    "print('Best parameters: {}'.format(grid_search.best_params_))"
   ]
  },
  {
   "cell_type": "code",
   "execution_count": 65,
   "metadata": {},
   "outputs": [
    {
     "data": {
      "text/plain": [
       "ElasticNet(alpha=0.085, copy_X=True, fit_intercept=True, l1_ratio=0.5,\n",
       "      max_iter=1000, normalize=False, positive=False, precompute=False,\n",
       "      random_state=None, selection='cyclic', tol=0.0001, warm_start=False)"
      ]
     },
     "execution_count": 65,
     "metadata": {},
     "output_type": "execute_result"
    }
   ],
   "source": [
    "#en = ElasticNet(alpha=0.4520512, l1_ratio=1.12)\n",
    "en = ElasticNet(alpha=0.085, l1_ratio=0.5)\n",
    "en.fit(x_train, y_train)"
   ]
  },
  {
   "cell_type": "code",
   "execution_count": 66,
   "metadata": {},
   "outputs": [],
   "source": [
    "y_test=en.predict(x_test)"
   ]
  },
  {
   "cell_type": "code",
   "execution_count": 67,
   "metadata": {},
   "outputs": [],
   "source": [
    "df_predicted = pd.DataFrame({'id': df_test['id'], 'target': y_test})\n",
    "df_predicted.to_csv('E:\\\\Kaggle\\\\dont-overfit-ii\\\\sample_submission_std4.csv', sep=',', index=False)"
   ]
  },
  {
   "cell_type": "code",
   "execution_count": null,
   "metadata": {},
   "outputs": [],
   "source": []
  }
 ],
 "metadata": {
  "kernelspec": {
   "display_name": "Python 3",
   "language": "python",
   "name": "python3"
  },
  "language_info": {
   "codemirror_mode": {
    "name": "ipython",
    "version": 3
   },
   "file_extension": ".py",
   "mimetype": "text/x-python",
   "name": "python",
   "nbconvert_exporter": "python",
   "pygments_lexer": "ipython3",
   "version": "3.7.0"
  }
 },
 "nbformat": 4,
 "nbformat_minor": 2
}
