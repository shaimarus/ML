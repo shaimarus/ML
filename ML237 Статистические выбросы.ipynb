{
 "cells": [
  {
   "cell_type": "markdown",
   "metadata": {},
   "source": [
    "# Статистические выбросы\n",
    "Определим наименее характерные данные и удалим их. Построим классификацию по KMeans и оценим ее точность относительно нефильтрованных данных.\n",
    "![Критерий Смирнова-Граббса](smirnov.png)\n",
    "### Данные\n",
    "* https://video.ittensive.com/machine-learning/hacktherealty/exposition_train.basic.csv.gz"
   ]
  },
  {
   "cell_type": "markdown",
   "metadata": {
    "id": "OKWUgpUpAJrv"
   },
   "source": [
    "### Подключение библиотек"
   ]
  },
  {
   "cell_type": "code",
   "execution_count": 1,
   "metadata": {
    "id": "BMMIDKFYAJGG"
   },
   "outputs": [],
   "source": [
    "import pandas as pd\n",
    "import numpy as np\n",
    "from sklearn.cluster import KMeans\n",
    "from sklearn import metrics\n",
    "from sklearn.preprocessing import StandardScaler\n",
    "from outliers import smirnov_grubbs as grubbs"
   ]
  },
  {
   "cell_type": "markdown",
   "metadata": {},
   "source": [
    "### Загрузка данных"
   ]
  },
  {
   "cell_type": "code",
   "execution_count": 2,
   "metadata": {},
   "outputs": [
    {
     "data": {
      "text/html": [
       "<div>\n",
       "<style scoped>\n",
       "    .dataframe tbody tr th:only-of-type {\n",
       "        vertical-align: middle;\n",
       "    }\n",
       "\n",
       "    .dataframe tbody tr th {\n",
       "        vertical-align: top;\n",
       "    }\n",
       "\n",
       "    .dataframe thead th {\n",
       "        text-align: right;\n",
       "    }\n",
       "</style>\n",
       "<table border=\"1\" class=\"dataframe\">\n",
       "  <thead>\n",
       "    <tr style=\"text-align: right;\">\n",
       "      <th></th>\n",
       "      <th>total_area</th>\n",
       "      <th>ceiling_height</th>\n",
       "      <th>rooms</th>\n",
       "      <th>living_area</th>\n",
       "      <th>price</th>\n",
       "      <th>day_mean</th>\n",
       "      <th>doy_108</th>\n",
       "      <th>price_locality_name_median</th>\n",
       "      <th>target</th>\n",
       "    </tr>\n",
       "  </thead>\n",
       "  <tbody>\n",
       "    <tr>\n",
       "      <th>0</th>\n",
       "      <td>105.000000</td>\n",
       "      <td>3.00</td>\n",
       "      <td>3</td>\n",
       "      <td>50.000000</td>\n",
       "      <td>95000</td>\n",
       "      <td>2.456912</td>\n",
       "      <td>0</td>\n",
       "      <td>2.261905</td>\n",
       "      <td>1</td>\n",
       "    </tr>\n",
       "    <tr>\n",
       "      <th>1</th>\n",
       "      <td>40.000000</td>\n",
       "      <td>3.00</td>\n",
       "      <td>1</td>\n",
       "      <td>19.200001</td>\n",
       "      <td>25000</td>\n",
       "      <td>3.028689</td>\n",
       "      <td>0</td>\n",
       "      <td>1.000000</td>\n",
       "      <td>2</td>\n",
       "    </tr>\n",
       "    <tr>\n",
       "      <th>2</th>\n",
       "      <td>37.599998</td>\n",
       "      <td>2.64</td>\n",
       "      <td>0</td>\n",
       "      <td>19.000000</td>\n",
       "      <td>26000</td>\n",
       "      <td>3.091993</td>\n",
       "      <td>0</td>\n",
       "      <td>0.619048</td>\n",
       "      <td>2</td>\n",
       "    </tr>\n",
       "    <tr>\n",
       "      <th>3</th>\n",
       "      <td>80.000000</td>\n",
       "      <td>3.00</td>\n",
       "      <td>3</td>\n",
       "      <td>49.000000</td>\n",
       "      <td>35000</td>\n",
       "      <td>3.101010</td>\n",
       "      <td>0</td>\n",
       "      <td>1.250000</td>\n",
       "      <td>2</td>\n",
       "    </tr>\n",
       "    <tr>\n",
       "      <th>4</th>\n",
       "      <td>100.000000</td>\n",
       "      <td>3.00</td>\n",
       "      <td>3</td>\n",
       "      <td>49.000000</td>\n",
       "      <td>80000</td>\n",
       "      <td>2.495468</td>\n",
       "      <td>0</td>\n",
       "      <td>1.904762</td>\n",
       "      <td>3</td>\n",
       "    </tr>\n",
       "  </tbody>\n",
       "</table>\n",
       "</div>"
      ],
      "text/plain": [
       "   total_area  ceiling_height  rooms  living_area  price  day_mean  doy_108  \\\n",
       "0  105.000000            3.00      3    50.000000  95000  2.456912        0   \n",
       "1   40.000000            3.00      1    19.200001  25000  3.028689        0   \n",
       "2   37.599998            2.64      0    19.000000  26000  3.091993        0   \n",
       "3   80.000000            3.00      3    49.000000  35000  3.101010        0   \n",
       "4  100.000000            3.00      3    49.000000  80000  2.495468        0   \n",
       "\n",
       "   price_locality_name_median  target  \n",
       "0                    2.261905       1  \n",
       "1                    1.000000       2  \n",
       "2                    0.619048       2  \n",
       "3                    1.250000       2  \n",
       "4                    1.904762       3  "
      ]
     },
     "execution_count": 2,
     "metadata": {},
     "output_type": "execute_result"
    }
   ],
   "source": [
    "train_data = pd.read_csv('https://video.ittensive.com/machine-learning/hacktherealty/exposition_train.basic.csv.gz')\n",
    "train_data.head()"
   ]
  },
  {
   "cell_type": "markdown",
   "metadata": {},
   "source": [
    "### Нормализация данных\n",
    "Приведение всех значений к отрезку [0;1], удалим из данных target"
   ]
  },
  {
   "cell_type": "code",
   "execution_count": 3,
   "metadata": {},
   "outputs": [],
   "source": [
    "train_data_an = pd.DataFrame(StandardScaler().fit_transform(train_data[train_data.columns[:-1]]))"
   ]
  },
  {
   "cell_type": "code",
   "execution_count": 4,
   "metadata": {},
   "outputs": [
    {
     "data": {
      "text/html": [
       "<div>\n",
       "<style scoped>\n",
       "    .dataframe tbody tr th:only-of-type {\n",
       "        vertical-align: middle;\n",
       "    }\n",
       "\n",
       "    .dataframe tbody tr th {\n",
       "        vertical-align: top;\n",
       "    }\n",
       "\n",
       "    .dataframe thead th {\n",
       "        text-align: right;\n",
       "    }\n",
       "</style>\n",
       "<table border=\"1\" class=\"dataframe\">\n",
       "  <thead>\n",
       "    <tr style=\"text-align: right;\">\n",
       "      <th></th>\n",
       "      <th>0</th>\n",
       "      <th>1</th>\n",
       "      <th>2</th>\n",
       "      <th>3</th>\n",
       "      <th>4</th>\n",
       "      <th>5</th>\n",
       "      <th>6</th>\n",
       "      <th>7</th>\n",
       "    </tr>\n",
       "  </thead>\n",
       "  <tbody>\n",
       "    <tr>\n",
       "      <th>0</th>\n",
       "      <td>1.709793</td>\n",
       "      <td>1.115052</td>\n",
       "      <td>1.469889</td>\n",
       "      <td>1.025395</td>\n",
       "      <td>0.378181</td>\n",
       "      <td>-1.607090</td>\n",
       "      <td>-0.108831</td>\n",
       "      <td>0.278301</td>\n",
       "    </tr>\n",
       "    <tr>\n",
       "      <th>1</th>\n",
       "      <td>-0.483202</td>\n",
       "      <td>1.115052</td>\n",
       "      <td>-0.861151</td>\n",
       "      <td>-0.679471</td>\n",
       "      <td>-0.217544</td>\n",
       "      <td>0.337784</td>\n",
       "      <td>-0.108831</td>\n",
       "      <td>-0.132179</td>\n",
       "    </tr>\n",
       "    <tr>\n",
       "      <th>2</th>\n",
       "      <td>-0.564174</td>\n",
       "      <td>-0.645106</td>\n",
       "      <td>-2.026671</td>\n",
       "      <td>-0.690542</td>\n",
       "      <td>-0.209033</td>\n",
       "      <td>0.553112</td>\n",
       "      <td>-0.108831</td>\n",
       "      <td>-0.256098</td>\n",
       "    </tr>\n",
       "    <tr>\n",
       "      <th>3</th>\n",
       "      <td>0.866333</td>\n",
       "      <td>1.115052</td>\n",
       "      <td>1.469889</td>\n",
       "      <td>0.970042</td>\n",
       "      <td>-0.132440</td>\n",
       "      <td>0.583783</td>\n",
       "      <td>-0.108831</td>\n",
       "      <td>-0.050858</td>\n",
       "    </tr>\n",
       "    <tr>\n",
       "      <th>4</th>\n",
       "      <td>1.541101</td>\n",
       "      <td>1.115052</td>\n",
       "      <td>1.469889</td>\n",
       "      <td>0.970042</td>\n",
       "      <td>0.250526</td>\n",
       "      <td>-1.475943</td>\n",
       "      <td>-0.108831</td>\n",
       "      <td>0.162128</td>\n",
       "    </tr>\n",
       "  </tbody>\n",
       "</table>\n",
       "</div>"
      ],
      "text/plain": [
       "          0         1         2         3         4         5         6  \\\n",
       "0  1.709793  1.115052  1.469889  1.025395  0.378181 -1.607090 -0.108831   \n",
       "1 -0.483202  1.115052 -0.861151 -0.679471 -0.217544  0.337784 -0.108831   \n",
       "2 -0.564174 -0.645106 -2.026671 -0.690542 -0.209033  0.553112 -0.108831   \n",
       "3  0.866333  1.115052  1.469889  0.970042 -0.132440  0.583783 -0.108831   \n",
       "4  1.541101  1.115052  1.469889  0.970042  0.250526 -1.475943 -0.108831   \n",
       "\n",
       "          7  \n",
       "0  0.278301  \n",
       "1 -0.132179  \n",
       "2 -0.256098  \n",
       "3 -0.050858  \n",
       "4  0.162128  "
      ]
     },
     "execution_count": 4,
     "metadata": {},
     "output_type": "execute_result"
    }
   ],
   "source": [
    "train_data_an.head()"
   ]
  },
  {
   "cell_type": "markdown",
   "metadata": {},
   "source": [
    "### Тест Смирнова-Граббса\n",
    "Найдем нехарактерные данные за границами нормальности (уровень 99,9%). Отдельно по каждому атрибуту - сохраним индексы в наборе данных"
   ]
  },
  {
   "cell_type": "code",
   "execution_count": 5,
   "metadata": {},
   "outputs": [
    {
     "name": "stdout",
     "output_type": "stream",
     "text": [
      "Обработка столбца 0\n",
      "Обработка столбца 1\n",
      "Обработка столбца 2\n",
      "Обработка столбца 3\n",
      "Обработка столбца 4\n",
      "Обработка столбца 5\n",
      "Обработка столбца 6\n",
      "Обработка столбца 7\n"
     ]
    }
   ],
   "source": [
    "anomalies = []\n",
    "for column in train_data_an.columns:\n",
    "    print (\"Обработка столбца\", column)\n",
    "    anomaly = grubbs.two_sided_test_indices(np.array(train_data_an[column]), alpha=.1)\n",
    "    anomalies.extend(anomaly)"
   ]
  },
  {
   "cell_type": "markdown",
   "metadata": {},
   "source": [
    "Отфильтруем аномальные данные"
   ]
  },
  {
   "cell_type": "code",
   "execution_count": 6,
   "metadata": {},
   "outputs": [
    {
     "name": "stdout",
     "output_type": "stream",
     "text": [
      "Процент аномалий: 7.37 %\n"
     ]
    }
   ],
   "source": [
    "train_data_filtered = train_data_an[~train_data_an.index.isin(anomalies)]\n",
    "print (\"Процент аномалий:\", round(100*len(anomalies)/len(train_data_an),2), \"%\")"
   ]
  },
  {
   "cell_type": "markdown",
   "metadata": {},
   "source": [
    "### Сравним K-средних\n",
    "Построим две модели: на данных без фильтрации и отфильтрованных"
   ]
  },
  {
   "cell_type": "code",
   "execution_count": 7,
   "metadata": {},
   "outputs": [],
   "source": [
    "kmeans_base = KMeans(n_clusters=100, random_state=0, max_iter=100, n_init=10).fit(train_data_an)"
   ]
  },
  {
   "cell_type": "code",
   "execution_count": 8,
   "metadata": {},
   "outputs": [],
   "source": [
    "kmeans_an = KMeans(n_clusters=100, random_state=0, max_iter=100, n_init=10).fit(train_data_filtered)"
   ]
  },
  {
   "cell_type": "code",
   "execution_count": 9,
   "metadata": {},
   "outputs": [],
   "source": [
    "target_cluster_base = kmeans_base.predict(train_data_an)\n",
    "target_cluster_an = kmeans_an.predict(train_data_an)"
   ]
  },
  {
   "cell_type": "code",
   "execution_count": 10,
   "metadata": {},
   "outputs": [],
   "source": [
    "train_data_an[\"target_cluster_base\"] = target_cluster_base\n",
    "train_data_an[\"target_cluster_an\"] = target_cluster_an"
   ]
  },
  {
   "cell_type": "markdown",
   "metadata": {},
   "source": [
    "### Оценка точности предсказания\n",
    "Присвоим среднее значение по кластеру"
   ]
  },
  {
   "cell_type": "code",
   "execution_count": 11,
   "metadata": {},
   "outputs": [],
   "source": [
    "train_data_an[\"target\"] = train_data[\"target\"]"
   ]
  },
  {
   "cell_type": "code",
   "execution_count": 12,
   "metadata": {},
   "outputs": [],
   "source": [
    "target_cluster_base = np.round(train_data_an.groupby(\"target_cluster_base\").mean()[\"target\"])\n",
    "train_data_an[\"target_pred_base\"] = train_data_an[\"target_cluster_base\"].apply(lambda x: target_cluster_base[x])"
   ]
  },
  {
   "cell_type": "code",
   "execution_count": 13,
   "metadata": {},
   "outputs": [],
   "source": [
    "target_cluster_an = np.round(train_data_an.groupby(\"target_cluster_an\").mean()[\"target\"])\n",
    "train_data_an[\"target_pred_an\"] = train_data_an[\"target_cluster_an\"].apply(lambda x: target_cluster_an[x])"
   ]
  },
  {
   "cell_type": "code",
   "execution_count": 14,
   "metadata": {},
   "outputs": [
    {
     "name": "stdout",
     "output_type": "stream",
     "text": [
      "100 средних:  4.186247152543807\n"
     ]
    }
   ],
   "source": [
    "print (\"100 средних: \", np.exp(np.abs(train_data_an[\"target\"] - train_data_an[\"target_pred_base\"])).sum() / len(train_data_an))"
   ]
  },
  {
   "cell_type": "code",
   "execution_count": 15,
   "metadata": {},
   "outputs": [
    {
     "name": "stdout",
     "output_type": "stream",
     "text": [
      "Фильтрация аномалий:  4.162560430231132\n"
     ]
    }
   ],
   "source": [
    "print (\"Фильтрация аномалий: \", np.exp(np.abs(train_data_an[\"target\"] - train_data_an[\"target_pred_an\"])).sum() / len(train_data_an))"
   ]
  }
 ],
 "metadata": {
  "colab": {
   "collapsed_sections": [],
   "name": "Finally.ipynb",
   "provenance": []
  },
  "kernelspec": {
   "display_name": "Python 3",
   "language": "python",
   "name": "python3"
  },
  "language_info": {
   "codemirror_mode": {
    "name": "ipython",
    "version": 3
   },
   "file_extension": ".py",
   "mimetype": "text/x-python",
   "name": "python",
   "nbconvert_exporter": "python",
   "pygments_lexer": "ipython3",
   "version": "3.8.3"
  }
 },
 "nbformat": 4,
 "nbformat_minor": 1
}
