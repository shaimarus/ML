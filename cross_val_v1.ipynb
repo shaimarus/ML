{
 "cells": [
  {
   "cell_type": "code",
   "execution_count": 278,
   "metadata": {},
   "outputs": [],
   "source": [
    "import numpy as np\n",
    "import matplotlib.pyplot as plt\n",
    "import pandas as pd\n",
    "from sklearn.model_selection import cross_val_score\n",
    "from sklearn.pipeline import make_union, make_pipeline\n",
    "from sklearn.linear_model import LogisticRegression\n",
    "from sklearn.preprocessing import FunctionTransformer, LabelEncoder, MinMaxScaler,  Imputer, LabelBinarizer, OneHotEncoder,StandardScaler\n",
    "from sklearn.feature_extraction import DictVectorizer\n",
    "from sklearn.model_selection import train_test_split, StratifiedShuffleSplit,StratifiedKFold, KFold, cross_val_score, GridSearchCV, RepeatedStratifiedKFold"
   ]
  },
  {
   "cell_type": "code",
   "execution_count": 95,
   "metadata": {},
   "outputs": [],
   "source": [
    "\n",
    "df_train=pd.read_csv('E:\\\\Kaggle\\\\dont-overfit-ii\\\\train.csv')\n",
    "df_test=pd.read_csv('E:\\\\Kaggle\\\\dont-overfit-ii\\\\test.csv')"
   ]
  },
  {
   "cell_type": "code",
   "execution_count": 134,
   "metadata": {},
   "outputs": [],
   "source": [
    "def get_num_cols(df):\n",
    "    colum_ind=[]\n",
    "    for i in range(300):\n",
    "        colum_ind.append(str(i))\n",
    "    return df[colum_ind]\n",
    "\n",
    "vec = make_union(*[\n",
    "    make_pipeline(FunctionTransformer(get_num_cols, validate=False),StandardScaler() ),\n",
    "])\n"
   ]
  },
  {
   "cell_type": "code",
   "execution_count": 135,
   "metadata": {},
   "outputs": [],
   "source": [
    "x_train = vec.fit_transform(df_train)\n",
    "x_test = vec.transform(df_test)\n",
    "y_train = df_train['target']"
   ]
  },
  {
   "cell_type": "code",
   "execution_count": 172,
   "metadata": {},
   "outputs": [],
   "source": [
    "scorer='roc_auc'\n",
    "n_fold=15\n",
    "cv_strategy = StratifiedShuffleSplit(n_splits=n_fold,test_size=0.3, random_state=3)"
   ]
  },
  {
   "cell_type": "code",
   "execution_count": 318,
   "metadata": {},
   "outputs": [
    {
     "data": {
      "text/plain": [
       "array([0.101503 , 0.1015031, 0.1015032, 0.1015033, 0.1015034, 0.1015035,\n",
       "       0.1015036, 0.1015037, 0.1015038, 0.1015039, 0.101504 , 0.1015041,\n",
       "       0.1015042, 0.1015043, 0.1015044, 0.1015045, 0.1015046, 0.1015047,\n",
       "       0.1015048, 0.1015049, 0.101505 ])"
      ]
     },
     "execution_count": 318,
     "metadata": {},
     "output_type": "execute_result"
    }
   ],
   "source": [
    "\n",
    "tt=np.arange(0.101503,0.101505,0.0000001)\n",
    "tt"
   ]
  },
  {
   "cell_type": "code",
   "execution_count": 319,
   "metadata": {},
   "outputs": [
    {
     "name": "stdout",
     "output_type": "stream",
     "text": [
      "Best score: 0.773045267489712\n",
      "Best parameters: {'C': 0.1015032, 'class_weight': 'balanced', 'penalty': 'l1', 'solver': 'liblinear'}\n"
     ]
    }
   ],
   "source": [
    "model=LogisticRegression()\n",
    "#1.120,1.121,1.122,1.123,1.124,1.125,1.126,1.127,1.128,1.129\n",
    "#0.09,0.091,0.092,0.093,0.094,0.095,0.096,0.097\n",
    "#0.001, 0.01, 0.1, 1.0, 10.0, 100.0\n",
    "parameter_grid = {'penalty' : ['l1','l2'],\n",
    "                  'C' : tt,\n",
    "                  'solver': ['liblinear'],\n",
    "                  'class_weight' : ['balanced', None],\n",
    "                }\n",
    "\n",
    "grid_search = GridSearchCV(model, param_grid=parameter_grid, cv=cv_strategy, scoring='roc_auc')\n",
    "grid_search.fit(x_train, y_train)\n",
    "print('Best score: {}'.format(grid_search.best_score_))\n",
    "print('Best parameters: {}'.format(grid_search.best_params_))"
   ]
  },
  {
   "cell_type": "code",
   "execution_count": null,
   "metadata": {},
   "outputs": [],
   "source": []
  },
  {
   "cell_type": "code",
   "execution_count": null,
   "metadata": {},
   "outputs": [],
   "source": []
  },
  {
   "cell_type": "code",
   "execution_count": 324,
   "metadata": {},
   "outputs": [
    {
     "data": {
      "text/plain": [
       "LogisticRegression(C=0.1015032, class_weight='balanced', dual=False,\n",
       "          fit_intercept=True, intercept_scaling=1, max_iter=100,\n",
       "          multi_class='ovr', n_jobs=1, penalty='l1', random_state=None,\n",
       "          solver='liblinear', tol=0.0001, verbose=0, warm_start=False)"
      ]
     },
     "execution_count": 324,
     "metadata": {},
     "output_type": "execute_result"
    }
   ],
   "source": [
    "model_best=LogisticRegression(**grid_search.best_params_)\n",
    "model_best.fit(x_train, y_train)"
   ]
  },
  {
   "cell_type": "code",
   "execution_count": 329,
   "metadata": {},
   "outputs": [
    {
     "data": {
      "text/plain": [
       "array([0.80864198, 0.75540123, 0.80169753, 0.81558642, 0.83179012,\n",
       "       0.78395062, 0.78240741, 0.68441358, 0.77083333, 0.8287037 ,\n",
       "       0.76929012, 0.67746914, 0.72839506, 0.78935185, 0.76774691])"
      ]
     },
     "execution_count": 329,
     "metadata": {},
     "output_type": "execute_result"
    }
   ],
   "source": [
    "cross_val_score(model_best,x_train,y_train,scoring=scorer,cv=cv_strategy)"
   ]
  },
  {
   "cell_type": "code",
   "execution_count": 330,
   "metadata": {},
   "outputs": [],
   "source": [
    "mean=cross_val_score(model_best,x_train,y_train,scoring=scorer,cv=cv).mean()\n",
    "std=cross_val_score(model_best,x_train,y_train,scoring=scorer,cv=cv).std()"
   ]
  },
  {
   "cell_type": "code",
   "execution_count": 331,
   "metadata": {},
   "outputs": [
    {
     "name": "stdout",
     "output_type": "stream",
     "text": [
      "CV mean score: 0.7670524691358025 std: +/-0.06307033819636798\n"
     ]
    }
   ],
   "source": [
    "print('CV mean score: {}' .format(mean),'std: +/-{}' .format(std))"
   ]
  },
  {
   "cell_type": "code",
   "execution_count": 332,
   "metadata": {},
   "outputs": [],
   "source": [
    "\n",
    "y_test=model_best.predict(x_test)\n",
    "df_predicted = pd.DataFrame({'id': df_test['id'], 'target': y_test})\n",
    "df_predicted.to_csv('E:\\\\Kaggle\\\\dont-overfit-ii\\\\sample_submission_model_best_logreg.csv', sep=',', index=False)    "
   ]
  },
  {
   "cell_type": "code",
   "execution_count": null,
   "metadata": {},
   "outputs": [],
   "source": []
  },
  {
   "cell_type": "code",
   "execution_count": null,
   "metadata": {},
   "outputs": [],
   "source": []
  },
  {
   "cell_type": "code",
   "execution_count": 322,
   "metadata": {},
   "outputs": [
    {
     "data": {
      "text/plain": [
       "[<matplotlib.lines.Line2D at 0x220375ec240>]"
      ]
     },
     "execution_count": 322,
     "metadata": {},
     "output_type": "execute_result"
    },
    {
     "data": {
      "image/png": "[encoded data removed]",
      "text/plain": [
       "<Figure size 432x288 with 1 Axes>"
      ]
     },
     "metadata": {
      "needs_background": "light"
     },
     "output_type": "display_data"
    }
   ],
   "source": [
    "X=[]\n",
    "for i in tt1:\n",
    "    X.append(cross_val_score(LogisticRegression(C=i,class_weight='balanced',penalty='l1',solver='liblinear'), x_train,y_train,scoring=scorer,cv=cv_strategy).mean())\n",
    "plt.plot(tt1,X, c='red')"
   ]
  },
  {
   "cell_type": "code",
   "execution_count": 328,
   "metadata": {},
   "outputs": [],
   "source": [
    "tt1=np.arange(0.001,0.3,0.001)\n"
   ]
  },
  {
   "cell_type": "code",
   "execution_count": null,
   "metadata": {},
   "outputs": [],
   "source": []
  },
  {
   "cell_type": "code",
   "execution_count": null,
   "metadata": {},
   "outputs": [],
   "source": []
  },
  {
   "cell_type": "code",
   "execution_count": null,
   "metadata": {},
   "outputs": [],
   "source": []
  },
  {
   "cell_type": "code",
   "execution_count": null,
   "metadata": {},
   "outputs": [],
   "source": []
  },
  {
   "cell_type": "code",
   "execution_count": null,
   "metadata": {},
   "outputs": [],
   "source": []
  },
  {
   "cell_type": "code",
   "execution_count": null,
   "metadata": {},
   "outputs": [],
   "source": []
  },
  {
   "cell_type": "code",
   "execution_count": null,
   "metadata": {},
   "outputs": [],
   "source": []
  },
  {
   "cell_type": "code",
   "execution_count": null,
   "metadata": {},
   "outputs": [],
   "source": []
  },
  {
   "cell_type": "code",
   "execution_count": null,
   "metadata": {},
   "outputs": [],
   "source": []
  },
  {
   "cell_type": "code",
   "execution_count": null,
   "metadata": {},
   "outputs": [],
   "source": []
  },
  {
   "cell_type": "code",
   "execution_count": 87,
   "metadata": {},
   "outputs": [
    {
     "name": "stdout",
     "output_type": "stream",
     "text": [
      "StratifiedShuffleSplit(n_splits=5, random_state=1, test_size=0.3,\n",
      "            train_size=None)\n"
     ]
    }
   ],
   "source": [
    "X = np.array([[1, 2], [3, 4], [1, 2], [3, 4], [1, 2], [3, 4]])\n",
    "y = np.array([0, 0, 0, 1, 1, 1])\n",
    "sss = StratifiedShuffleSplit(n_splits=5, test_size=0.3, random_state=1)\n",
    "sss.get_n_splits(X, y)\n",
    "print(sss)"
   ]
  },
  {
   "cell_type": "code",
   "execution_count": 88,
   "metadata": {},
   "outputs": [
    {
     "name": "stdout",
     "output_type": "stream",
     "text": [
      "TRAIN: [0 4 2 5] TEST: [1 3]\n",
      "TRAIN: [5 1 2 3] TEST: [4 0]\n",
      "TRAIN: [5 2 4 0] TEST: [1 3]\n",
      "TRAIN: [2 1 4 5] TEST: [0 3]\n",
      "TRAIN: [0 3 2 4] TEST: [1 5]\n"
     ]
    }
   ],
   "source": [
    "for train_index, test_index in sss.split(X, y):\n",
    "    print(\"TRAIN:\", train_index, \"TEST:\", test_index)\n",
    "    X_train, X_test = X[train_index], X[test_index]\n",
    "    y_train, y_test = y[train_index], y[test_index]"
   ]
  },
  {
   "cell_type": "code",
   "execution_count": null,
   "metadata": {},
   "outputs": [],
   "source": []
  },
  {
   "cell_type": "code",
   "execution_count": null,
   "metadata": {},
   "outputs": [],
   "source": []
  }
 ],
 "metadata": {
  "kernelspec": {
   "display_name": "Python 3",
   "language": "python",
   "name": "python3"
  },
  "language_info": {
   "codemirror_mode": {
    "name": "ipython",
    "version": 3
   },
   "file_extension": ".py",
   "mimetype": "text/x-python",
   "name": "python",
   "nbconvert_exporter": "python",
   "pygments_lexer": "ipython3",
   "version": "3.7.0"
  }
 },
 "nbformat": 4,
 "nbformat_minor": 2
}
