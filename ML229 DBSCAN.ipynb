{
 "cells": [
  {
   "cell_type": "markdown",
   "metadata": {},
   "source": [
    "# DBSCAN\n",
    "![DBSCAN](dbscan.png)\n",
    "### Данные\n",
    "* https://video.ittensive.com/machine-learning/hacktherealty/exposition_train.basic.csv.gz"
   ]
  },
  {
   "cell_type": "markdown",
   "metadata": {
    "id": "OKWUgpUpAJrv"
   },
   "source": [
    "### Подключение библиотек"
   ]
  },
  {
   "cell_type": "code",
   "execution_count": 17,
   "metadata": {
    "id": "BMMIDKFYAJGG"
   },
   "outputs": [],
   "source": [
    "import pandas as pd\n",
    "import numpy as np\n",
    "from sklearn.cluster import DBSCAN\n",
    "from sklearn import metrics\n",
    "from sklearn.preprocessing import MinMaxScaler"
   ]
  },
  {
   "cell_type": "markdown",
   "metadata": {},
   "source": [
    "### Загрузка данных"
   ]
  },
  {
   "cell_type": "code",
   "execution_count": 18,
   "metadata": {},
   "outputs": [
    {
     "data": {
      "text/html": [
       "<div>\n",
       "<style scoped>\n",
       "    .dataframe tbody tr th:only-of-type {\n",
       "        vertical-align: middle;\n",
       "    }\n",
       "\n",
       "    .dataframe tbody tr th {\n",
       "        vertical-align: top;\n",
       "    }\n",
       "\n",
       "    .dataframe thead th {\n",
       "        text-align: right;\n",
       "    }\n",
       "</style>\n",
       "<table border=\"1\" class=\"dataframe\">\n",
       "  <thead>\n",
       "    <tr style=\"text-align: right;\">\n",
       "      <th></th>\n",
       "      <th>total_area</th>\n",
       "      <th>ceiling_height</th>\n",
       "      <th>rooms</th>\n",
       "      <th>living_area</th>\n",
       "      <th>price</th>\n",
       "      <th>day_mean</th>\n",
       "      <th>doy_108</th>\n",
       "      <th>price_locality_name_median</th>\n",
       "      <th>target</th>\n",
       "    </tr>\n",
       "  </thead>\n",
       "  <tbody>\n",
       "    <tr>\n",
       "      <th>0</th>\n",
       "      <td>105.000000</td>\n",
       "      <td>3.00</td>\n",
       "      <td>3</td>\n",
       "      <td>50.000000</td>\n",
       "      <td>95000</td>\n",
       "      <td>2.456912</td>\n",
       "      <td>0</td>\n",
       "      <td>2.261905</td>\n",
       "      <td>1</td>\n",
       "    </tr>\n",
       "    <tr>\n",
       "      <th>1</th>\n",
       "      <td>40.000000</td>\n",
       "      <td>3.00</td>\n",
       "      <td>1</td>\n",
       "      <td>19.200001</td>\n",
       "      <td>25000</td>\n",
       "      <td>3.028689</td>\n",
       "      <td>0</td>\n",
       "      <td>1.000000</td>\n",
       "      <td>2</td>\n",
       "    </tr>\n",
       "    <tr>\n",
       "      <th>2</th>\n",
       "      <td>37.599998</td>\n",
       "      <td>2.64</td>\n",
       "      <td>0</td>\n",
       "      <td>19.000000</td>\n",
       "      <td>26000</td>\n",
       "      <td>3.091993</td>\n",
       "      <td>0</td>\n",
       "      <td>0.619048</td>\n",
       "      <td>2</td>\n",
       "    </tr>\n",
       "    <tr>\n",
       "      <th>3</th>\n",
       "      <td>80.000000</td>\n",
       "      <td>3.00</td>\n",
       "      <td>3</td>\n",
       "      <td>49.000000</td>\n",
       "      <td>35000</td>\n",
       "      <td>3.101010</td>\n",
       "      <td>0</td>\n",
       "      <td>1.250000</td>\n",
       "      <td>2</td>\n",
       "    </tr>\n",
       "    <tr>\n",
       "      <th>4</th>\n",
       "      <td>100.000000</td>\n",
       "      <td>3.00</td>\n",
       "      <td>3</td>\n",
       "      <td>49.000000</td>\n",
       "      <td>80000</td>\n",
       "      <td>2.495468</td>\n",
       "      <td>0</td>\n",
       "      <td>1.904762</td>\n",
       "      <td>3</td>\n",
       "    </tr>\n",
       "  </tbody>\n",
       "</table>\n",
       "</div>"
      ],
      "text/plain": [
       "   total_area  ceiling_height  rooms  living_area  price  day_mean  doy_108  \\\n",
       "0  105.000000            3.00      3    50.000000  95000  2.456912        0   \n",
       "1   40.000000            3.00      1    19.200001  25000  3.028689        0   \n",
       "2   37.599998            2.64      0    19.000000  26000  3.091993        0   \n",
       "3   80.000000            3.00      3    49.000000  35000  3.101010        0   \n",
       "4  100.000000            3.00      3    49.000000  80000  2.495468        0   \n",
       "\n",
       "   price_locality_name_median  target  \n",
       "0                    2.261905       1  \n",
       "1                    1.000000       2  \n",
       "2                    0.619048       2  \n",
       "3                    1.250000       2  \n",
       "4                    1.904762       3  "
      ]
     },
     "execution_count": 18,
     "metadata": {},
     "output_type": "execute_result"
    }
   ],
   "source": [
    "train_data = pd.read_csv('https://video.ittensive.com/machine-learning/hacktherealty/exposition_train.basic.csv.gz')\n",
    "train_data.head()"
   ]
  },
  {
   "cell_type": "markdown",
   "metadata": {},
   "source": [
    "### DBSCAN\n",
    "Выделим связанные группы данных"
   ]
  },
  {
   "cell_type": "code",
   "execution_count": 19,
   "metadata": {},
   "outputs": [],
   "source": [
    "dbscan = DBSCAN(n_jobs=-1)\n",
    "dbscan_labels = dbscan.fit_predict(train_data)"
   ]
  },
  {
   "cell_type": "code",
   "execution_count": 20,
   "metadata": {},
   "outputs": [
    {
     "name": "stdout",
     "output_type": "stream",
     "text": [
      "Неразмеченные данные: 55%\n"
     ]
    }
   ],
   "source": [
    "print (\"Неразмеченные данные:\", str(round(100*len(dbscan_labels[dbscan_labels==-1])/len(train_data)))+\"%\")"
   ]
  },
  {
   "cell_type": "code",
   "execution_count": 21,
   "metadata": {},
   "outputs": [
    {
     "name": "stdout",
     "output_type": "stream",
     "text": [
      "-0.8552465295114389\n"
     ]
    }
   ],
   "source": [
    "print(1 - metrics.davies_bouldin_score(train_data, dbscan_labels))"
   ]
  },
  {
   "cell_type": "markdown",
   "metadata": {},
   "source": [
    "Увеличим окрестность близких данных"
   ]
  },
  {
   "cell_type": "code",
   "execution_count": 22,
   "metadata": {},
   "outputs": [],
   "source": [
    "dbscan = DBSCAN(n_jobs=-1, eps=3, min_samples=5)\n",
    "dbscan_labels = dbscan.fit_predict(train_data)"
   ]
  },
  {
   "cell_type": "code",
   "execution_count": 23,
   "metadata": {},
   "outputs": [
    {
     "name": "stdout",
     "output_type": "stream",
     "text": [
      "Неразмеченные данные: 7%\n"
     ]
    }
   ],
   "source": [
    "print (\"Неразмеченные данные:\", str(round(100*len(dbscan_labels[dbscan_labels==-1])/len(train_data)))+\"%\")"
   ]
  },
  {
   "cell_type": "code",
   "execution_count": 24,
   "metadata": {},
   "outputs": [
    {
     "name": "stdout",
     "output_type": "stream",
     "text": [
      "[  -1    0    1 ... 1132 1133 1134]\n"
     ]
    }
   ],
   "source": [
    "print (np.unique(dbscan_labels))"
   ]
  },
  {
   "cell_type": "code",
   "execution_count": 25,
   "metadata": {},
   "outputs": [
    {
     "name": "stdout",
     "output_type": "stream",
     "text": [
      "-3.992472312179001\n"
     ]
    }
   ],
   "source": [
    "print(1 - metrics.davies_bouldin_score(train_data, dbscan_labels))"
   ]
  },
  {
   "cell_type": "markdown",
   "metadata": {},
   "source": [
    "### Нормализация данных\n",
    "Приведение всех значений к отрезку [0;1]"
   ]
  },
  {
   "cell_type": "code",
   "execution_count": 26,
   "metadata": {},
   "outputs": [],
   "source": [
    "train_data_mm = pd.DataFrame(MinMaxScaler().fit_transform(train_data))"
   ]
  },
  {
   "cell_type": "code",
   "execution_count": 27,
   "metadata": {},
   "outputs": [
    {
     "data": {
      "text/html": [
       "<div>\n",
       "<style scoped>\n",
       "    .dataframe tbody tr th:only-of-type {\n",
       "        vertical-align: middle;\n",
       "    }\n",
       "\n",
       "    .dataframe tbody tr th {\n",
       "        vertical-align: top;\n",
       "    }\n",
       "\n",
       "    .dataframe thead th {\n",
       "        text-align: right;\n",
       "    }\n",
       "</style>\n",
       "<table border=\"1\" class=\"dataframe\">\n",
       "  <thead>\n",
       "    <tr style=\"text-align: right;\">\n",
       "      <th></th>\n",
       "      <th>0</th>\n",
       "      <th>1</th>\n",
       "      <th>2</th>\n",
       "      <th>3</th>\n",
       "      <th>4</th>\n",
       "      <th>5</th>\n",
       "      <th>6</th>\n",
       "      <th>7</th>\n",
       "      <th>8</th>\n",
       "    </tr>\n",
       "  </thead>\n",
       "  <tbody>\n",
       "    <tr>\n",
       "      <th>0</th>\n",
       "      <td>0.097782</td>\n",
       "      <td>0.333333</td>\n",
       "      <td>0.6</td>\n",
       "      <td>0.108352</td>\n",
       "      <td>0.002078</td>\n",
       "      <td>0.390327</td>\n",
       "      <td>0.0</td>\n",
       "      <td>0.002071</td>\n",
       "      <td>0.00</td>\n",
       "    </tr>\n",
       "    <tr>\n",
       "      <th>1</th>\n",
       "      <td>0.032258</td>\n",
       "      <td>0.333333</td>\n",
       "      <td>0.2</td>\n",
       "      <td>0.038826</td>\n",
       "      <td>0.000522</td>\n",
       "      <td>0.599951</td>\n",
       "      <td>0.0</td>\n",
       "      <td>0.000893</td>\n",
       "      <td>0.25</td>\n",
       "    </tr>\n",
       "    <tr>\n",
       "      <th>2</th>\n",
       "      <td>0.029839</td>\n",
       "      <td>0.213333</td>\n",
       "      <td>0.0</td>\n",
       "      <td>0.038375</td>\n",
       "      <td>0.000544</td>\n",
       "      <td>0.623160</td>\n",
       "      <td>0.0</td>\n",
       "      <td>0.000538</td>\n",
       "      <td>0.25</td>\n",
       "    </tr>\n",
       "    <tr>\n",
       "      <th>3</th>\n",
       "      <td>0.072581</td>\n",
       "      <td>0.333333</td>\n",
       "      <td>0.6</td>\n",
       "      <td>0.106095</td>\n",
       "      <td>0.000744</td>\n",
       "      <td>0.626465</td>\n",
       "      <td>0.0</td>\n",
       "      <td>0.001127</td>\n",
       "      <td>0.25</td>\n",
       "    </tr>\n",
       "    <tr>\n",
       "      <th>4</th>\n",
       "      <td>0.092742</td>\n",
       "      <td>0.333333</td>\n",
       "      <td>0.6</td>\n",
       "      <td>0.106095</td>\n",
       "      <td>0.001745</td>\n",
       "      <td>0.404462</td>\n",
       "      <td>0.0</td>\n",
       "      <td>0.001738</td>\n",
       "      <td>0.50</td>\n",
       "    </tr>\n",
       "  </tbody>\n",
       "</table>\n",
       "</div>"
      ],
      "text/plain": [
       "          0         1    2         3         4         5    6         7     8\n",
       "0  0.097782  0.333333  0.6  0.108352  0.002078  0.390327  0.0  0.002071  0.00\n",
       "1  0.032258  0.333333  0.2  0.038826  0.000522  0.599951  0.0  0.000893  0.25\n",
       "2  0.029839  0.213333  0.0  0.038375  0.000544  0.623160  0.0  0.000538  0.25\n",
       "3  0.072581  0.333333  0.6  0.106095  0.000744  0.626465  0.0  0.001127  0.25\n",
       "4  0.092742  0.333333  0.6  0.106095  0.001745  0.404462  0.0  0.001738  0.50"
      ]
     },
     "execution_count": 27,
     "metadata": {},
     "output_type": "execute_result"
    }
   ],
   "source": [
    "train_data_mm.head()"
   ]
  },
  {
   "cell_type": "code",
   "execution_count": 28,
   "metadata": {},
   "outputs": [],
   "source": [
    "dbscan_mm = DBSCAN(n_jobs=-1, eps=0.02)\n",
    "dbscan_labels_mm = dbscan_mm.fit_predict(train_data_mm)"
   ]
  },
  {
   "cell_type": "code",
   "execution_count": 29,
   "metadata": {},
   "outputs": [
    {
     "name": "stdout",
     "output_type": "stream",
     "text": [
      "Неразмеченные данные: 4%\n"
     ]
    }
   ],
   "source": [
    "print (\"Неразмеченные данные:\", str(round(100*len(dbscan_labels_mm[dbscan_labels_mm==-1])/len(train_data_mm)))+\"%\")"
   ]
  },
  {
   "cell_type": "code",
   "execution_count": 30,
   "metadata": {},
   "outputs": [
    {
     "name": "stdout",
     "output_type": "stream",
     "text": [
      "-0.16759345675142256\n"
     ]
    }
   ],
   "source": [
    "print(1 - metrics.davies_bouldin_score(train_data_mm, dbscan_labels_mm))"
   ]
  },
  {
   "cell_type": "code",
   "execution_count": 31,
   "metadata": {},
   "outputs": [
    {
     "name": "stdout",
     "output_type": "stream",
     "text": [
      "[ -1   0   1   2   3   4   5   6   7   8   9  10  11  12  13  14  15  16\n",
      "  17  18  19  20  21  22  23  24  25  26  27  28  29  30  31  32  33  34\n",
      "  35  36  37  38  39  40  41  42  43  44  45  46  47  48  49  50  51  52\n",
      "  53  54  55  56  57  58  59  60  61  62  63  64  65  66  67  68  69  70\n",
      "  71  72  73  74  75  76  77  78  79  80  81  82  83  84  85  86  87  88\n",
      "  89  90  91  92  93  94  95  96  97  98  99 100 101 102 103 104 105 106\n",
      " 107 108 109 110 111 112 113 114 115 116 117 118 119 120 121 122 123 124\n",
      " 125 126 127 128 129 130 131 132 133 134 135 136 137 138 139 140 141 142\n",
      " 143 144 145 146 147 148 149 150 151 152 153 154 155 156 157 158 159 160\n",
      " 161 162 163 164 165 166 167 168 169 170 171 172 173 174 175 176 177 178\n",
      " 179 180 181 182 183 184 185 186 187 188 189 190 191 192 193 194 195 196\n",
      " 197 198 199 200 201 202 203 204 205 206 207 208 209 210 211 212 213 214\n",
      " 215 216 217 218 219 220 221 222 223 224 225 226 227 228 229 230 231 232\n",
      " 233 234 235 236 237 238 239 240 241 242 243 244 245 246 247 248 249 250\n",
      " 251 252 253 254 255 256 257 258 259 260 261 262 263 264 265 266 267 268\n",
      " 269 270 271 272 273 274 275 276 277 278 279 280 281 282 283 284 285 286\n",
      " 287 288 289 290 291 292 293 294 295 296 297 298 299 300 301 302 303 304\n",
      " 305 306 307 308 309 310 311 312 313 314 315 316 317 318 319 320 321 322\n",
      " 323 324 325 326 327 328 329 330 331 332 333 334 335 336 337 338 339 340\n",
      " 341 342 343 344 345 346 347 348 349 350 351 352 353 354 355 356 357 358\n",
      " 359 360 361 362 363 364 365 366 367 368 369 370 371 372 373 374 375 376\n",
      " 377 378 379 380 381 382 383 384 385 386 387 388 389 390 391 392 393 394\n",
      " 395 396 397 398 399 400 401 402 403 404 405 406 407 408 409 410 411 412\n",
      " 413 414 415 416 417 418 419 420 421 422 423 424 425 426 427 428 429 430\n",
      " 431 432 433 434 435 436 437 438 439 440 441 442 443 444 445 446 447 448\n",
      " 449 450 451 452 453 454 455 456 457 458 459 460 461 462 463 464 465 466\n",
      " 467 468 469 470 471 472 473 474 475 476 477 478 479 480 481 482 483 484\n",
      " 485 486 487 488 489 490 491 492 493 494 495 496 497 498 499 500 501 502\n",
      " 503 504 505 506 507 508 509 510 511 512 513 514 515 516 517 518 519 520\n",
      " 521 522 523 524 525 526 527 528 529 530 531 532 533 534 535 536 537 538\n",
      " 539 540 541 542 543 544 545 546 547 548 549 550 551 552 553 554 555 556\n",
      " 557 558 559 560 561 562 563 564 565 566 567 568 569 570 571 572 573 574\n",
      " 575 576 577 578 579 580 581 582 583 584 585 586 587 588 589 590]\n"
     ]
    }
   ],
   "source": [
    "print (np.unique(dbscan_labels_mm))"
   ]
  },
  {
   "cell_type": "markdown",
   "metadata": {},
   "source": [
    "Элементы первого кластера"
   ]
  },
  {
   "cell_type": "code",
   "execution_count": 32,
   "metadata": {},
   "outputs": [
    {
     "data": {
      "text/html": [
       "<div>\n",
       "<style scoped>\n",
       "    .dataframe tbody tr th:only-of-type {\n",
       "        vertical-align: middle;\n",
       "    }\n",
       "\n",
       "    .dataframe tbody tr th {\n",
       "        vertical-align: top;\n",
       "    }\n",
       "\n",
       "    .dataframe thead th {\n",
       "        text-align: right;\n",
       "    }\n",
       "</style>\n",
       "<table border=\"1\" class=\"dataframe\">\n",
       "  <thead>\n",
       "    <tr style=\"text-align: right;\">\n",
       "      <th></th>\n",
       "      <th>total_area</th>\n",
       "      <th>ceiling_height</th>\n",
       "      <th>rooms</th>\n",
       "      <th>living_area</th>\n",
       "      <th>price</th>\n",
       "      <th>day_mean</th>\n",
       "      <th>doy_108</th>\n",
       "      <th>price_locality_name_median</th>\n",
       "      <th>target</th>\n",
       "    </tr>\n",
       "  </thead>\n",
       "  <tbody>\n",
       "    <tr>\n",
       "      <th>0</th>\n",
       "      <td>105.0</td>\n",
       "      <td>3.0</td>\n",
       "      <td>3</td>\n",
       "      <td>50.0</td>\n",
       "      <td>95000</td>\n",
       "      <td>2.456912</td>\n",
       "      <td>0</td>\n",
       "      <td>2.261905</td>\n",
       "      <td>1</td>\n",
       "    </tr>\n",
       "    <tr>\n",
       "      <th>129</th>\n",
       "      <td>78.0</td>\n",
       "      <td>3.0</td>\n",
       "      <td>3</td>\n",
       "      <td>51.0</td>\n",
       "      <td>75000</td>\n",
       "      <td>2.830472</td>\n",
       "      <td>0</td>\n",
       "      <td>1.785714</td>\n",
       "      <td>1</td>\n",
       "    </tr>\n",
       "    <tr>\n",
       "      <th>2984</th>\n",
       "      <td>72.0</td>\n",
       "      <td>3.0</td>\n",
       "      <td>3</td>\n",
       "      <td>48.0</td>\n",
       "      <td>40000</td>\n",
       "      <td>3.030030</td>\n",
       "      <td>0</td>\n",
       "      <td>0.952381</td>\n",
       "      <td>1</td>\n",
       "    </tr>\n",
       "    <tr>\n",
       "      <th>3473</th>\n",
       "      <td>67.0</td>\n",
       "      <td>3.0</td>\n",
       "      <td>3</td>\n",
       "      <td>42.0</td>\n",
       "      <td>50000</td>\n",
       "      <td>3.084795</td>\n",
       "      <td>0</td>\n",
       "      <td>2.000000</td>\n",
       "      <td>1</td>\n",
       "    </tr>\n",
       "    <tr>\n",
       "      <th>3885</th>\n",
       "      <td>69.0</td>\n",
       "      <td>3.0</td>\n",
       "      <td>3</td>\n",
       "      <td>50.0</td>\n",
       "      <td>55000</td>\n",
       "      <td>3.485714</td>\n",
       "      <td>0</td>\n",
       "      <td>1.309524</td>\n",
       "      <td>1</td>\n",
       "    </tr>\n",
       "    <tr>\n",
       "      <th>...</th>\n",
       "      <td>...</td>\n",
       "      <td>...</td>\n",
       "      <td>...</td>\n",
       "      <td>...</td>\n",
       "      <td>...</td>\n",
       "      <td>...</td>\n",
       "      <td>...</td>\n",
       "      <td>...</td>\n",
       "      <td>...</td>\n",
       "    </tr>\n",
       "    <tr>\n",
       "      <th>353827</th>\n",
       "      <td>123.0</td>\n",
       "      <td>3.0</td>\n",
       "      <td>3</td>\n",
       "      <td>73.0</td>\n",
       "      <td>160000</td>\n",
       "      <td>2.987315</td>\n",
       "      <td>0</td>\n",
       "      <td>3.809524</td>\n",
       "      <td>1</td>\n",
       "    </tr>\n",
       "    <tr>\n",
       "      <th>353843</th>\n",
       "      <td>160.0</td>\n",
       "      <td>3.0</td>\n",
       "      <td>3</td>\n",
       "      <td>80.0</td>\n",
       "      <td>250000</td>\n",
       "      <td>2.908642</td>\n",
       "      <td>0</td>\n",
       "      <td>5.952381</td>\n",
       "      <td>1</td>\n",
       "    </tr>\n",
       "    <tr>\n",
       "      <th>353867</th>\n",
       "      <td>96.0</td>\n",
       "      <td>3.0</td>\n",
       "      <td>3</td>\n",
       "      <td>61.0</td>\n",
       "      <td>120000</td>\n",
       "      <td>3.149871</td>\n",
       "      <td>0</td>\n",
       "      <td>2.857143</td>\n",
       "      <td>1</td>\n",
       "    </tr>\n",
       "    <tr>\n",
       "      <th>355940</th>\n",
       "      <td>94.0</td>\n",
       "      <td>3.0</td>\n",
       "      <td>3</td>\n",
       "      <td>66.0</td>\n",
       "      <td>130000</td>\n",
       "      <td>3.153614</td>\n",
       "      <td>0</td>\n",
       "      <td>3.095238</td>\n",
       "      <td>1</td>\n",
       "    </tr>\n",
       "    <tr>\n",
       "      <th>356326</th>\n",
       "      <td>90.0</td>\n",
       "      <td>3.0</td>\n",
       "      <td>3</td>\n",
       "      <td>53.0</td>\n",
       "      <td>125000</td>\n",
       "      <td>2.682927</td>\n",
       "      <td>0</td>\n",
       "      <td>2.976190</td>\n",
       "      <td>1</td>\n",
       "    </tr>\n",
       "  </tbody>\n",
       "</table>\n",
       "<p>1460 rows × 9 columns</p>\n",
       "</div>"
      ],
      "text/plain": [
       "        total_area  ceiling_height  rooms  living_area   price  day_mean  \\\n",
       "0            105.0             3.0      3         50.0   95000  2.456912   \n",
       "129           78.0             3.0      3         51.0   75000  2.830472   \n",
       "2984          72.0             3.0      3         48.0   40000  3.030030   \n",
       "3473          67.0             3.0      3         42.0   50000  3.084795   \n",
       "3885          69.0             3.0      3         50.0   55000  3.485714   \n",
       "...            ...             ...    ...          ...     ...       ...   \n",
       "353827       123.0             3.0      3         73.0  160000  2.987315   \n",
       "353843       160.0             3.0      3         80.0  250000  2.908642   \n",
       "353867        96.0             3.0      3         61.0  120000  3.149871   \n",
       "355940        94.0             3.0      3         66.0  130000  3.153614   \n",
       "356326        90.0             3.0      3         53.0  125000  2.682927   \n",
       "\n",
       "        doy_108  price_locality_name_median  target  \n",
       "0             0                    2.261905       1  \n",
       "129           0                    1.785714       1  \n",
       "2984          0                    0.952381       1  \n",
       "3473          0                    2.000000       1  \n",
       "3885          0                    1.309524       1  \n",
       "...         ...                         ...     ...  \n",
       "353827        0                    3.809524       1  \n",
       "353843        0                    5.952381       1  \n",
       "353867        0                    2.857143       1  \n",
       "355940        0                    3.095238       1  \n",
       "356326        0                    2.976190       1  \n",
       "\n",
       "[1460 rows x 9 columns]"
      ]
     },
     "execution_count": 32,
     "metadata": {},
     "output_type": "execute_result"
    }
   ],
   "source": [
    "train_data.iloc[list(np.where(dbscan_labels_mm==0)[0])]"
   ]
  }
 ],
 "metadata": {
  "colab": {
   "collapsed_sections": [],
   "name": "Finally.ipynb",
   "provenance": []
  },
  "kernelspec": {
   "display_name": "Python 3",
   "language": "python",
   "name": "python3"
  },
  "language_info": {
   "codemirror_mode": {
    "name": "ipython",
    "version": 3
   },
   "file_extension": ".py",
   "mimetype": "text/x-python",
   "name": "python",
   "nbconvert_exporter": "python",
   "pygments_lexer": "ipython3",
   "version": "3.8.3"
  }
 },
 "nbformat": 4,
 "nbformat_minor": 1
}
