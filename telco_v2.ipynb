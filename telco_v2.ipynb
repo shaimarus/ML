{
 "cells": [
  {
   "cell_type": "code",
   "execution_count": 124,
   "metadata": {},
   "outputs": [],
   "source": [
    "import numpy as np\n",
    "import pandas as pd\n",
    "import seaborn as sns\n",
    "%matplotlib inline\n",
    "import matplotlib.ticker as mtick\n",
    "import matplotlib.pyplot as plt\n",
    "#import pandas_profiling\n",
    "import itertools"
   ]
  },
  {
   "cell_type": "code",
   "execution_count": 2,
   "metadata": {},
   "outputs": [],
   "source": [
    "df=pd.read_csv('C:\\\\1\\\\1\\\\telco-customer-churn.csv')"
   ]
  },
  {
   "cell_type": "markdown",
   "metadata": {},
   "source": [
    "# Предварительный анализ данных\n",
    "### Воспользуемся pandas_profiling для анализа нашего датасета\n"
   ]
  },
  {
   "cell_type": "code",
   "execution_count": 3,
   "metadata": {},
   "outputs": [],
   "source": [
    "#pandas_profiling.ProfileReport(df)"
   ]
  },
  {
   "cell_type": "markdown",
   "metadata": {},
   "source": [
    "По полученным результатам выше видим что имеются два столбца 'noadditionallines' и 'year' которые мы можем исключить в качестве признаков для модели, т.к. они принимают одни и те же значения. \n",
    "\n",
    "Также находим что имеется корреляция между 'totalcallduration' и 'avgcallduration', попробуем оставить только 'avgcallduration'."
   ]
  },
  {
   "cell_type": "code",
   "execution_count": 5,
   "metadata": {},
   "outputs": [],
   "source": [
    "y_train1=df['churn']\n",
    "df.drop(labels=['churn','noadditionallines','year','totalcallduration','callingnum'], axis=1, inplace=True)"
   ]
  },
  {
   "cell_type": "code",
   "execution_count": 6,
   "metadata": {},
   "outputs": [],
   "source": [
    "from sklearn.pipeline import make_union, make_pipeline\n",
    "from sklearn.preprocessing import FunctionTransformer, LabelEncoder, MinMaxScaler,StandardScaler,  Imputer, LabelBinarizer, OneHotEncoder\n",
    "from sklearn.feature_extraction import DictVectorizer"
   ]
  },
  {
   "cell_type": "markdown",
   "metadata": {},
   "source": [
    "  "
   ]
  },
  {
   "cell_type": "code",
   "execution_count": 7,
   "metadata": {},
   "outputs": [],
   "source": [
    "#Создадим класс для LabelEncoder чтобы в дальнейшем его использовать в pipline\n",
    "class LabelEncoderPipelineFriendly(LabelEncoder):\n",
    "    \n",
    "    def fit(self, X, y=None):\n",
    "        super(LabelEncoderPipelineFriendly, self).fit(X)\n",
    "        \n",
    "    def transform(self, X, y=None):\n",
    "        return super(LabelEncoderPipelineFriendly, self).transform(X).reshape(-1, 1)\n",
    "\n",
    "    def fit_transform(self, X, y=None):\n",
    "        return super(LabelEncoderPipelineFriendly, self).fit(X).transform(X).reshape(-1, 1)"
   ]
  },
  {
   "cell_type": "code",
   "execution_count": 8,
   "metadata": {},
   "outputs": [],
   "source": [
    "#Выделим столбцы с числовыми значениями\n",
    "def get_numeric_col(df):\n",
    "    return df[['age','annualincome','calldroprate','callfailurerate','customerid','monthlybilledamount','numberofcomplaints','numberofmonthunpaid','numdayscontractequipmentplanexpiring','penaltytoswitch','totalminsusedinlastmonth','unpaidbalance','percentagecalloutsidenetwork','avgcallduration','month']]\n",
    "#Выделим столбцы boolean\n",
    "def get_boolean_customersuspended(df):\n",
    "    return df[['customersuspended']]\n",
    "def get_boolean_gender(df):\n",
    "    return df[['gender']]\n",
    "def get_boolean_homeowner(df):\n",
    "    return df[['homeowner']]\n",
    "def get_boolean_maritalstatus(df):\n",
    "    return df[['maritalstatus']]\n",
    "def get_boolean_usesinternetservice(df):\n",
    "    return df[['usesinternetservice']]\n",
    "def get_boolean_usesvoiceservice(df):\n",
    "    return df[['usesvoiceservice']]\n",
    "#Выделим столбцы categorical\n",
    "def get_categ_education(df):\n",
    "    return df[['education']]\n",
    "def get_categ_occupation(df):\n",
    "    return df[['occupation']]\n",
    "def get_categ_state(df):\n",
    "    return df[['state']]\n",
    "\n"
   ]
  },
  {
   "cell_type": "markdown",
   "metadata": {},
   "source": [
    "Воспользуемся pipeline (все числовые столбцы отмасштабируем через StandardScaler, столбцы с бинарными значенимя покажем как 0 и 1 (LabelEncoder), а остальные столбцы с категорияльными признаками применим OneHotEncoder, предварительно применив LabelEncoder\n",
    "\n",
    "###### После этого все наши признаки будут иметь числовые значения"
   ]
  },
  {
   "cell_type": "code",
   "execution_count": 13,
   "metadata": {},
   "outputs": [],
   "source": [
    "vec = make_union(*[\n",
    "  make_pipeline(FunctionTransformer(get_numeric_col, validate=False),StandardScaler()),\n",
    "        \n",
    "  make_pipeline(FunctionTransformer(get_boolean_customersuspended, validate=False),  LabelEncoderPipelineFriendly()),\n",
    "  make_pipeline(FunctionTransformer(get_boolean_gender, validate=False),  LabelEncoderPipelineFriendly()),\n",
    "  make_pipeline(FunctionTransformer(get_boolean_homeowner, validate=False),  LabelEncoderPipelineFriendly()),\n",
    "  make_pipeline(FunctionTransformer(get_boolean_maritalstatus, validate=False),  LabelEncoderPipelineFriendly()),\n",
    "  make_pipeline(FunctionTransformer(get_boolean_usesinternetservice, validate=False),  LabelEncoderPipelineFriendly()),\n",
    "  make_pipeline(FunctionTransformer(get_boolean_usesvoiceservice, validate=False),  LabelEncoderPipelineFriendly()),\n",
    "     \n",
    "  make_pipeline(FunctionTransformer(get_categ_education, validate=False),  LabelEncoderPipelineFriendly(),OneHotEncoder(sparse=False)),\n",
    "  make_pipeline(FunctionTransformer(get_categ_occupation, validate=False),  LabelEncoderPipelineFriendly(),OneHotEncoder(sparse=False)),\n",
    "  make_pipeline(FunctionTransformer(get_categ_state, validate=False),  LabelEncoderPipelineFriendly(),OneHotEncoder(sparse=False)),\n",
    "])"
   ]
  },
  {
   "cell_type": "code",
   "execution_count": null,
   "metadata": {},
   "outputs": [],
   "source": []
  },
  {
   "cell_type": "code",
   "execution_count": 17,
   "metadata": {},
   "outputs": [
    {
     "name": "stderr",
     "output_type": "stream",
     "text": [
      "C:\\ProgramData\\Anaconda3\\lib\\site-packages\\sklearn\\preprocessing\\label.py:95: DataConversionWarning: A column-vector y was passed when a 1d array was expected. Please change the shape of y to (n_samples, ), for example using ravel().\n",
      "  y = column_or_1d(y, warn=True)\n",
      "C:\\ProgramData\\Anaconda3\\lib\\site-packages\\sklearn\\preprocessing\\label.py:128: DataConversionWarning: A column-vector y was passed when a 1d array was expected. Please change the shape of y to (n_samples, ), for example using ravel().\n",
      "  y = column_or_1d(y, warn=True)\n",
      "C:\\ProgramData\\Anaconda3\\lib\\site-packages\\sklearn\\preprocessing\\label.py:95: DataConversionWarning: A column-vector y was passed when a 1d array was expected. Please change the shape of y to (n_samples, ), for example using ravel().\n",
      "  y = column_or_1d(y, warn=True)\n",
      "C:\\ProgramData\\Anaconda3\\lib\\site-packages\\sklearn\\preprocessing\\label.py:128: DataConversionWarning: A column-vector y was passed when a 1d array was expected. Please change the shape of y to (n_samples, ), for example using ravel().\n",
      "  y = column_or_1d(y, warn=True)\n",
      "C:\\ProgramData\\Anaconda3\\lib\\site-packages\\sklearn\\preprocessing\\label.py:95: DataConversionWarning: A column-vector y was passed when a 1d array was expected. Please change the shape of y to (n_samples, ), for example using ravel().\n",
      "  y = column_or_1d(y, warn=True)\n",
      "C:\\ProgramData\\Anaconda3\\lib\\site-packages\\sklearn\\preprocessing\\label.py:128: DataConversionWarning: A column-vector y was passed when a 1d array was expected. Please change the shape of y to (n_samples, ), for example using ravel().\n",
      "  y = column_or_1d(y, warn=True)\n",
      "C:\\ProgramData\\Anaconda3\\lib\\site-packages\\sklearn\\preprocessing\\label.py:95: DataConversionWarning: A column-vector y was passed when a 1d array was expected. Please change the shape of y to (n_samples, ), for example using ravel().\n",
      "  y = column_or_1d(y, warn=True)\n",
      "C:\\ProgramData\\Anaconda3\\lib\\site-packages\\sklearn\\preprocessing\\label.py:128: DataConversionWarning: A column-vector y was passed when a 1d array was expected. Please change the shape of y to (n_samples, ), for example using ravel().\n",
      "  y = column_or_1d(y, warn=True)\n",
      "C:\\ProgramData\\Anaconda3\\lib\\site-packages\\sklearn\\preprocessing\\label.py:95: DataConversionWarning: A column-vector y was passed when a 1d array was expected. Please change the shape of y to (n_samples, ), for example using ravel().\n",
      "  y = column_or_1d(y, warn=True)\n",
      "C:\\ProgramData\\Anaconda3\\lib\\site-packages\\sklearn\\preprocessing\\label.py:128: DataConversionWarning: A column-vector y was passed when a 1d array was expected. Please change the shape of y to (n_samples, ), for example using ravel().\n",
      "  y = column_or_1d(y, warn=True)\n",
      "C:\\ProgramData\\Anaconda3\\lib\\site-packages\\sklearn\\preprocessing\\label.py:95: DataConversionWarning: A column-vector y was passed when a 1d array was expected. Please change the shape of y to (n_samples, ), for example using ravel().\n",
      "  y = column_or_1d(y, warn=True)\n",
      "C:\\ProgramData\\Anaconda3\\lib\\site-packages\\sklearn\\preprocessing\\label.py:128: DataConversionWarning: A column-vector y was passed when a 1d array was expected. Please change the shape of y to (n_samples, ), for example using ravel().\n",
      "  y = column_or_1d(y, warn=True)\n",
      "C:\\ProgramData\\Anaconda3\\lib\\site-packages\\sklearn\\preprocessing\\label.py:95: DataConversionWarning: A column-vector y was passed when a 1d array was expected. Please change the shape of y to (n_samples, ), for example using ravel().\n",
      "  y = column_or_1d(y, warn=True)\n",
      "C:\\ProgramData\\Anaconda3\\lib\\site-packages\\sklearn\\preprocessing\\label.py:128: DataConversionWarning: A column-vector y was passed when a 1d array was expected. Please change the shape of y to (n_samples, ), for example using ravel().\n",
      "  y = column_or_1d(y, warn=True)\n",
      "C:\\ProgramData\\Anaconda3\\lib\\site-packages\\sklearn\\preprocessing\\label.py:95: DataConversionWarning: A column-vector y was passed when a 1d array was expected. Please change the shape of y to (n_samples, ), for example using ravel().\n",
      "  y = column_or_1d(y, warn=True)\n",
      "C:\\ProgramData\\Anaconda3\\lib\\site-packages\\sklearn\\preprocessing\\label.py:128: DataConversionWarning: A column-vector y was passed when a 1d array was expected. Please change the shape of y to (n_samples, ), for example using ravel().\n",
      "  y = column_or_1d(y, warn=True)\n",
      "C:\\ProgramData\\Anaconda3\\lib\\site-packages\\sklearn\\preprocessing\\label.py:95: DataConversionWarning: A column-vector y was passed when a 1d array was expected. Please change the shape of y to (n_samples, ), for example using ravel().\n",
      "  y = column_or_1d(y, warn=True)\n",
      "C:\\ProgramData\\Anaconda3\\lib\\site-packages\\sklearn\\preprocessing\\label.py:128: DataConversionWarning: A column-vector y was passed when a 1d array was expected. Please change the shape of y to (n_samples, ), for example using ravel().\n",
      "  y = column_or_1d(y, warn=True)\n"
     ]
    },
    {
     "data": {
      "text/plain": [
       "(20468, 78)"
      ]
     },
     "execution_count": 17,
     "metadata": {},
     "output_type": "execute_result"
    }
   ],
   "source": [
    "x_train1=vec.fit_transform(df)\n",
    "x_train1.shape"
   ]
  },
  {
   "cell_type": "code",
   "execution_count": 20,
   "metadata": {},
   "outputs": [],
   "source": [
    "#разобьем нашу выборку на test и train, на выборке train будем обучать модель, в том числе и подбирать параметры, а качество модели узнаем на test\n",
    "from sklearn.model_selection import train_test_split\n",
    "\n",
    "x_train, x_test, y_train, y_test = train_test_split(x_train1, y_train1, test_size=0.1, random_state=42)"
   ]
  },
  {
   "cell_type": "code",
   "execution_count": 40,
   "metadata": {},
   "outputs": [],
   "source": [
    "from sklearn import tree\n",
    "from sklearn.ensemble import RandomForestClassifier\n",
    "from sklearn.ensemble import ExtraTreesClassifier\n",
    "from sklearn import metrics\n",
    "from sklearn.ensemble import AdaBoostClassifier\n",
    "from sklearn.model_selection import cross_val_score\n",
    "from sklearn.pipeline import make_union, make_pipeline\n",
    "from sklearn.linear_model import LogisticRegression,SGDClassifier\n",
    "from sklearn.preprocessing import FunctionTransformer, LabelEncoder, MinMaxScaler,  Imputer, LabelBinarizer, OneHotEncoder,StandardScaler\n",
    "from sklearn.feature_extraction import DictVectorizer\n",
    "from sklearn.model_selection import train_test_split, StratifiedShuffleSplit,StratifiedKFold, KFold, cross_val_score, GridSearchCV, RepeatedStratifiedKFold"
   ]
  },
  {
   "cell_type": "code",
   "execution_count": 129,
   "metadata": {},
   "outputs": [
    {
     "data": {
      "text/plain": [
       "RandomForestClassifier(bootstrap=True, class_weight=None, criterion='gini',\n",
       "            max_depth=None, max_features='auto', max_leaf_nodes=None,\n",
       "            min_impurity_decrease=0.0, min_impurity_split=None,\n",
       "            min_samples_leaf=1, min_samples_split=2,\n",
       "            min_weight_fraction_leaf=0.0, n_estimators=10, n_jobs=1,\n",
       "            oob_score=False, random_state=None, verbose=0,\n",
       "            warm_start=False)"
      ]
     },
     "execution_count": 129,
     "metadata": {},
     "output_type": "execute_result"
    }
   ],
   "source": [
    "model_log=RandomForestClassifier()\n",
    "#model_log = tree.DecisionTreeClassifier()\n",
    "#model_log = ExtraTreesClassifier(max_depth=40)\n",
    "#model_log=AdaBoostClassifier()\n",
    "#model_log=SGDClassifier(loss='log',random_state=1)\n",
    "#model_log=LogisticRegression()\n",
    "model_log.fit(x_train, y_train)"
   ]
  },
  {
   "cell_type": "code",
   "execution_count": null,
   "metadata": {},
   "outputs": [],
   "source": []
  },
  {
   "cell_type": "code",
   "execution_count": null,
   "metadata": {},
   "outputs": [],
   "source": []
  },
  {
   "cell_type": "code",
   "execution_count": null,
   "metadata": {},
   "outputs": [],
   "source": []
  },
  {
   "cell_type": "code",
   "execution_count": null,
   "metadata": {},
   "outputs": [],
   "source": []
  },
  {
   "cell_type": "code",
   "execution_count": null,
   "metadata": {},
   "outputs": [],
   "source": []
  },
  {
   "cell_type": "code",
   "execution_count": null,
   "metadata": {},
   "outputs": [],
   "source": [
    "\n"
   ]
  },
  {
   "cell_type": "code",
   "execution_count": null,
   "metadata": {},
   "outputs": [],
   "source": []
  },
  {
   "cell_type": "code",
   "execution_count": 214,
   "metadata": {},
   "outputs": [],
   "source": [
    "scorer='roc_auc'\n",
    "n_fold=10\n",
    "cv_strategy = StratifiedShuffleSplit(n_splits=n_fold,test_size=0.3, random_state=3)"
   ]
  },
  {
   "cell_type": "code",
   "execution_count": null,
   "metadata": {},
   "outputs": [],
   "source": []
  },
  {
   "cell_type": "code",
   "execution_count": null,
   "metadata": {},
   "outputs": [],
   "source": []
  },
  {
   "cell_type": "code",
   "execution_count": 227,
   "metadata": {},
   "outputs": [
    {
     "name": "stderr",
     "output_type": "stream",
     "text": [
      "C:\\ProgramData\\Anaconda3\\lib\\site-packages\\sklearn\\metrics\\classification.py:1135: UndefinedMetricWarning: Precision and F-score are ill-defined and being set to 0.0 in labels with no predicted samples.\n",
      "  'precision', 'predicted', average, warn_for)\n"
     ]
    },
    {
     "name": "stdout",
     "output_type": "stream",
     "text": [
      "             precision    recall  f1-score   support\n",
      "\n",
      "          0       0.90      1.00      0.95      1850\n",
      "          1       0.00      0.00      0.00       197\n",
      "\n",
      "avg / total       0.82      0.90      0.86      2047\n",
      "\n",
      "accuracy: 0.9038\n",
      "CV mean score(roc_auc): 0.6586 std: +/-0.01077\n",
      "roc_auc on test: 0.6426\n",
      "avg precision score: 0.0962\n"
     ]
    },
    {
     "data": {
      "image/png": "[encoded data removed]",
      "text/plain": [
       "<Figure size 432x288 with 2 Axes>"
      ]
     },
     "metadata": {},
     "output_type": "display_data"
    }
   ],
   "source": [
    "model_log=LogisticRegression()\n",
    "model_log.fit(x_train, y_train)\n",
    "log_predic=model_log.predict(x_test)\n",
    "log_predic_proba=model_log.predict_proba(x_test)\n",
    "ac_sc=metrics.accuracy_score(y_test,log_predic)\n",
    "\n",
    "r = sns.heatmap(metrics.confusion_matrix(y_test,log_predic), cmap='BuPu', annot=True,fmt=\"d\")\n",
    "r.set_title(\"Confusion matrix\")\n",
    "r.set_xlabel(\"Predicted label\")\n",
    "r.set_ylabel(\"True label\")\n",
    "\n",
    "ac_sc=metrics.accuracy_score(y_test,log_predic)\n",
    "print(metrics.classification_report(y_test,log_predic))\n",
    "print('accuracy: {}' .format(round(ac_sc,4)))\n",
    "\n",
    "mean1=cross_val_score(model_log,x_train1,y_train1,scoring=scorer,cv=cv_strategy).mean()\n",
    "std1=cross_val_score(model_log,x_train1,y_train1,scoring=scorer,cv=cv_strategy).std()\n",
    "print('CV mean score(roc_auc): {}' .format(round(mean1,4)),'std: +/-{}' .format(round(std1,5)))\n",
    "\n",
    "\n",
    "roc_auc_test=metrics.roc_auc_score(y_test,log_predic_proba[:,1])\n",
    "print('roc_auc on test: {}' .format(round(roc_auc_test,4)))\n",
    "\n",
    "avg_prec=metrics.average_precision_score(y_test,log_predic)\n",
    "print('avg precision score: {}' .format(round(avg_prec,4)))"
   ]
  },
  {
   "cell_type": "code",
   "execution_count": null,
   "metadata": {},
   "outputs": [],
   "source": []
  },
  {
   "cell_type": "code",
   "execution_count": null,
   "metadata": {},
   "outputs": [],
   "source": []
  },
  {
   "cell_type": "code",
   "execution_count": null,
   "metadata": {},
   "outputs": [],
   "source": []
  },
  {
   "cell_type": "code",
   "execution_count": null,
   "metadata": {},
   "outputs": [],
   "source": []
  },
  {
   "cell_type": "code",
   "execution_count": null,
   "metadata": {},
   "outputs": [],
   "source": []
  },
  {
   "cell_type": "code",
   "execution_count": null,
   "metadata": {},
   "outputs": [],
   "source": []
  },
  {
   "cell_type": "code",
   "execution_count": null,
   "metadata": {},
   "outputs": [],
   "source": []
  },
  {
   "cell_type": "code",
   "execution_count": null,
   "metadata": {},
   "outputs": [],
   "source": []
  },
  {
   "cell_type": "code",
   "execution_count": null,
   "metadata": {},
   "outputs": [],
   "source": []
  },
  {
   "cell_type": "code",
   "execution_count": 224,
   "metadata": {},
   "outputs": [
    {
     "data": {
      "image/png": "[encoded data removed]",
      "text/plain": [
       "<Figure size 864x1152 with 2 Axes>"
      ]
     },
     "metadata": {},
     "output_type": "display_data"
    }
   ],
   "source": [
    "lst=[model_log,model_log]\n",
    "length=len(lst)\n",
    "mods=['model1','model2']\n",
    "plt.style.use(\"dark_background\")\n",
    "fig=plt.figure(figsize=(12,16))\n",
    "fig.set_facecolor(\"#F3F3F3\")\n",
    "for i,j,k in itertools.zip_longest(lst,range(length),mods) :\n",
    "    qx = plt.subplot(4,3,j+1)\n",
    "    probabilities = i.predict_proba(x_test)\n",
    "    predictions   = i.predict(x_test)\n",
    "    fpr,tpr,thresholds = metrics.roc_curve(y_test,probabilities[:,1])\n",
    "    plt.plot(fpr,tpr,linestyle = \"dotted\",\n",
    "             color = \"royalblue\",linewidth = 2,\n",
    "             label = \"AUC = \" + str(np.around(metrics.roc_auc_score(y_test,probabilities[:,1]),3)))\n",
    "    plt.plot([0,1],[0,1],linestyle = \"dashed\",\n",
    "             color = \"orangered\",linewidth = 1.5)\n",
    "    plt.fill_between(fpr,tpr,alpha = .4)\n",
    "    plt.fill_between([0,1],[0,1],color = \"k\")\n",
    "    plt.legend(loc = \"lower right\",\n",
    "               prop = {\"size\" : 12})\n",
    "    qx.set_facecolor(\"k\")\n",
    "    plt.grid(True,alpha = .15)\n",
    "    plt.title(k,color = \"b\")\n",
    "    plt.xticks(np.arange(0,1,.3))\n",
    "    plt.yticks(np.arange(0,1,.3))"
   ]
  },
  {
   "cell_type": "code",
   "execution_count": 226,
   "metadata": {},
   "outputs": [
    {
     "data": {
      "image/png": "[encoded data removed]",
      "text/plain": [
       "<Figure size 936x1224 with 2 Axes>"
      ]
     },
     "metadata": {},
     "output_type": "display_data"
    }
   ],
   "source": [
    "from sklearn.metrics import precision_recall_curve\n",
    "from sklearn.metrics import average_precision_score\n",
    "\n",
    "\n",
    "lst=[model_log,model_log]\n",
    "length=len(lst)\n",
    "mods=['model1','model2']\n",
    "\n",
    "fig = plt.figure(figsize=(13,17))\n",
    "fig.set_facecolor(\"#F3F3F3\")\n",
    "for i,j,k in itertools.zip_longest(lst,range(length),mods) :\n",
    "    \n",
    "    qx = plt.subplot(4,3,j+1)\n",
    "    probabilities = i.predict_proba(x_test)\n",
    "    predictions   = i.predict(x_test)\n",
    "    recall,precision,thresholds = precision_recall_curve(y_test,probabilities[:,1])\n",
    "    plt.plot(recall,precision,linewidth = 1.5,\n",
    "             label = (\"avg_pcn : \" + \n",
    "                      str(np.around(average_precision_score(y_test,predictions),3))))\n",
    "    plt.plot([0,1],[0,0],linestyle = \"dashed\")\n",
    "    plt.fill_between(recall,precision,alpha = .2)\n",
    "    plt.legend(loc = \"lower left\",\n",
    "               prop = {\"size\" : 10})\n",
    "    qx.set_facecolor(\"k\")\n",
    "    plt.grid(True,alpha = .15)\n",
    "    plt.title(k,color = \"b\")\n",
    "    plt.xlabel(\"recall\",fontsize =7)\n",
    "    plt.ylabel(\"precision\",fontsize =7)\n",
    "    plt.xlim([0.25,1])\n",
    "    plt.yticks(np.arange(0,1,.3))"
   ]
  },
  {
   "cell_type": "code",
   "execution_count": null,
   "metadata": {},
   "outputs": [],
   "source": []
  }
 ],
 "metadata": {
  "kernelspec": {
   "display_name": "Python 3",
   "language": "python",
   "name": "python3"
  },
  "language_info": {
   "codemirror_mode": {
    "name": "ipython",
    "version": 3
   },
   "file_extension": ".py",
   "mimetype": "text/x-python",
   "name": "python",
   "nbconvert_exporter": "python",
   "pygments_lexer": "ipython3",
   "version": "3.7.0"
  }
 },
 "nbformat": 4,
 "nbformat_minor": 2
}
