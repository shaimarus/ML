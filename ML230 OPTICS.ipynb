{
 "cells": [
  {
   "cell_type": "markdown",
   "metadata": {},
   "source": [
    "# OPTICS\n",
    "![OPTICS](optics.jpg)\n",
    "### Данные\n",
    "* https://video.ittensive.com/machine-learning/hacktherealty/exposition_train.basic.csv.gz"
   ]
  },
  {
   "cell_type": "markdown",
   "metadata": {
    "id": "OKWUgpUpAJrv"
   },
   "source": [
    "### Подключение библиотек"
   ]
  },
  {
   "cell_type": "code",
   "execution_count": 1,
   "metadata": {
    "id": "BMMIDKFYAJGG"
   },
   "outputs": [],
   "source": [
    "import pandas as pd\n",
    "import numpy as np\n",
    "from sklearn.cluster import OPTICS\n",
    "from sklearn import metrics\n",
    "from sklearn.preprocessing import MinMaxScaler"
   ]
  },
  {
   "cell_type": "markdown",
   "metadata": {},
   "source": [
    "### Загрузка данных"
   ]
  },
  {
   "cell_type": "code",
   "execution_count": 2,
   "metadata": {},
   "outputs": [
    {
     "data": {
      "text/html": [
       "<div>\n",
       "<style scoped>\n",
       "    .dataframe tbody tr th:only-of-type {\n",
       "        vertical-align: middle;\n",
       "    }\n",
       "\n",
       "    .dataframe tbody tr th {\n",
       "        vertical-align: top;\n",
       "    }\n",
       "\n",
       "    .dataframe thead th {\n",
       "        text-align: right;\n",
       "    }\n",
       "</style>\n",
       "<table border=\"1\" class=\"dataframe\">\n",
       "  <thead>\n",
       "    <tr style=\"text-align: right;\">\n",
       "      <th></th>\n",
       "      <th>total_area</th>\n",
       "      <th>ceiling_height</th>\n",
       "      <th>rooms</th>\n",
       "      <th>living_area</th>\n",
       "      <th>price</th>\n",
       "      <th>day_mean</th>\n",
       "      <th>doy_108</th>\n",
       "      <th>price_locality_name_median</th>\n",
       "      <th>target</th>\n",
       "    </tr>\n",
       "  </thead>\n",
       "  <tbody>\n",
       "    <tr>\n",
       "      <th>0</th>\n",
       "      <td>105.000000</td>\n",
       "      <td>3.00</td>\n",
       "      <td>3</td>\n",
       "      <td>50.000000</td>\n",
       "      <td>95000</td>\n",
       "      <td>2.456912</td>\n",
       "      <td>0</td>\n",
       "      <td>2.261905</td>\n",
       "      <td>1</td>\n",
       "    </tr>\n",
       "    <tr>\n",
       "      <th>1</th>\n",
       "      <td>40.000000</td>\n",
       "      <td>3.00</td>\n",
       "      <td>1</td>\n",
       "      <td>19.200001</td>\n",
       "      <td>25000</td>\n",
       "      <td>3.028689</td>\n",
       "      <td>0</td>\n",
       "      <td>1.000000</td>\n",
       "      <td>2</td>\n",
       "    </tr>\n",
       "    <tr>\n",
       "      <th>2</th>\n",
       "      <td>37.599998</td>\n",
       "      <td>2.64</td>\n",
       "      <td>0</td>\n",
       "      <td>19.000000</td>\n",
       "      <td>26000</td>\n",
       "      <td>3.091993</td>\n",
       "      <td>0</td>\n",
       "      <td>0.619048</td>\n",
       "      <td>2</td>\n",
       "    </tr>\n",
       "    <tr>\n",
       "      <th>3</th>\n",
       "      <td>80.000000</td>\n",
       "      <td>3.00</td>\n",
       "      <td>3</td>\n",
       "      <td>49.000000</td>\n",
       "      <td>35000</td>\n",
       "      <td>3.101010</td>\n",
       "      <td>0</td>\n",
       "      <td>1.250000</td>\n",
       "      <td>2</td>\n",
       "    </tr>\n",
       "    <tr>\n",
       "      <th>4</th>\n",
       "      <td>100.000000</td>\n",
       "      <td>3.00</td>\n",
       "      <td>3</td>\n",
       "      <td>49.000000</td>\n",
       "      <td>80000</td>\n",
       "      <td>2.495468</td>\n",
       "      <td>0</td>\n",
       "      <td>1.904762</td>\n",
       "      <td>3</td>\n",
       "    </tr>\n",
       "  </tbody>\n",
       "</table>\n",
       "</div>"
      ],
      "text/plain": [
       "   total_area  ceiling_height  rooms  living_area  price  day_mean  doy_108  \\\n",
       "0  105.000000            3.00      3    50.000000  95000  2.456912        0   \n",
       "1   40.000000            3.00      1    19.200001  25000  3.028689        0   \n",
       "2   37.599998            2.64      0    19.000000  26000  3.091993        0   \n",
       "3   80.000000            3.00      3    49.000000  35000  3.101010        0   \n",
       "4  100.000000            3.00      3    49.000000  80000  2.495468        0   \n",
       "\n",
       "   price_locality_name_median  target  \n",
       "0                    2.261905       1  \n",
       "1                    1.000000       2  \n",
       "2                    0.619048       2  \n",
       "3                    1.250000       2  \n",
       "4                    1.904762       3  "
      ]
     },
     "execution_count": 2,
     "metadata": {},
     "output_type": "execute_result"
    }
   ],
   "source": [
    "train_data = pd.read_csv('https://video.ittensive.com/machine-learning/hacktherealty/exposition_train.basic.csv.gz')\n",
    "train_data.head()"
   ]
  },
  {
   "cell_type": "markdown",
   "metadata": {},
   "source": [
    "### Нормализация данных\n",
    "Приведение всех значений к отрезку [0;1]"
   ]
  },
  {
   "cell_type": "code",
   "execution_count": 3,
   "metadata": {},
   "outputs": [],
   "source": [
    "train_data_mm = pd.DataFrame(MinMaxScaler().fit_transform(train_data))"
   ]
  },
  {
   "cell_type": "code",
   "execution_count": 4,
   "metadata": {},
   "outputs": [
    {
     "data": {
      "text/html": [
       "<div>\n",
       "<style scoped>\n",
       "    .dataframe tbody tr th:only-of-type {\n",
       "        vertical-align: middle;\n",
       "    }\n",
       "\n",
       "    .dataframe tbody tr th {\n",
       "        vertical-align: top;\n",
       "    }\n",
       "\n",
       "    .dataframe thead th {\n",
       "        text-align: right;\n",
       "    }\n",
       "</style>\n",
       "<table border=\"1\" class=\"dataframe\">\n",
       "  <thead>\n",
       "    <tr style=\"text-align: right;\">\n",
       "      <th></th>\n",
       "      <th>0</th>\n",
       "      <th>1</th>\n",
       "      <th>2</th>\n",
       "      <th>3</th>\n",
       "      <th>4</th>\n",
       "      <th>5</th>\n",
       "      <th>6</th>\n",
       "      <th>7</th>\n",
       "      <th>8</th>\n",
       "    </tr>\n",
       "  </thead>\n",
       "  <tbody>\n",
       "    <tr>\n",
       "      <th>0</th>\n",
       "      <td>0.097782</td>\n",
       "      <td>0.333333</td>\n",
       "      <td>0.6</td>\n",
       "      <td>0.108352</td>\n",
       "      <td>0.002078</td>\n",
       "      <td>0.390327</td>\n",
       "      <td>0.0</td>\n",
       "      <td>0.002071</td>\n",
       "      <td>0.00</td>\n",
       "    </tr>\n",
       "    <tr>\n",
       "      <th>1</th>\n",
       "      <td>0.032258</td>\n",
       "      <td>0.333333</td>\n",
       "      <td>0.2</td>\n",
       "      <td>0.038826</td>\n",
       "      <td>0.000522</td>\n",
       "      <td>0.599951</td>\n",
       "      <td>0.0</td>\n",
       "      <td>0.000893</td>\n",
       "      <td>0.25</td>\n",
       "    </tr>\n",
       "    <tr>\n",
       "      <th>2</th>\n",
       "      <td>0.029839</td>\n",
       "      <td>0.213333</td>\n",
       "      <td>0.0</td>\n",
       "      <td>0.038375</td>\n",
       "      <td>0.000544</td>\n",
       "      <td>0.623160</td>\n",
       "      <td>0.0</td>\n",
       "      <td>0.000538</td>\n",
       "      <td>0.25</td>\n",
       "    </tr>\n",
       "    <tr>\n",
       "      <th>3</th>\n",
       "      <td>0.072581</td>\n",
       "      <td>0.333333</td>\n",
       "      <td>0.6</td>\n",
       "      <td>0.106095</td>\n",
       "      <td>0.000744</td>\n",
       "      <td>0.626465</td>\n",
       "      <td>0.0</td>\n",
       "      <td>0.001127</td>\n",
       "      <td>0.25</td>\n",
       "    </tr>\n",
       "    <tr>\n",
       "      <th>4</th>\n",
       "      <td>0.092742</td>\n",
       "      <td>0.333333</td>\n",
       "      <td>0.6</td>\n",
       "      <td>0.106095</td>\n",
       "      <td>0.001745</td>\n",
       "      <td>0.404462</td>\n",
       "      <td>0.0</td>\n",
       "      <td>0.001738</td>\n",
       "      <td>0.50</td>\n",
       "    </tr>\n",
       "  </tbody>\n",
       "</table>\n",
       "</div>"
      ],
      "text/plain": [
       "          0         1    2         3         4         5    6         7     8\n",
       "0  0.097782  0.333333  0.6  0.108352  0.002078  0.390327  0.0  0.002071  0.00\n",
       "1  0.032258  0.333333  0.2  0.038826  0.000522  0.599951  0.0  0.000893  0.25\n",
       "2  0.029839  0.213333  0.0  0.038375  0.000544  0.623160  0.0  0.000538  0.25\n",
       "3  0.072581  0.333333  0.6  0.106095  0.000744  0.626465  0.0  0.001127  0.25\n",
       "4  0.092742  0.333333  0.6  0.106095  0.001745  0.404462  0.0  0.001738  0.50"
      ]
     },
     "execution_count": 4,
     "metadata": {},
     "output_type": "execute_result"
    }
   ],
   "source": [
    "train_data_mm.head()"
   ]
  },
  {
   "cell_type": "markdown",
   "metadata": {},
   "source": [
    "### OPTICS"
   ]
  },
  {
   "cell_type": "code",
   "execution_count": 20,
   "metadata": {},
   "outputs": [
    {
     "name": "stderr",
     "output_type": "stream",
     "text": [
      "c:\\users\\lenovo pc\\appdata\\local\\programs\\python\\python38\\lib\\site-packages\\sklearn\\cluster\\_optics.py:803: RuntimeWarning: divide by zero encountered in true_divide\n",
      "  ratio = reachability_plot[:-1] / reachability_plot[1:]\n"
     ]
    }
   ],
   "source": [
    "optics = OPTICS(n_jobs=-1, eps=0.1)\n",
    "optics_labels = optics.fit_predict(train_data_mm[0:50000])"
   ]
  },
  {
   "cell_type": "code",
   "execution_count": 21,
   "metadata": {},
   "outputs": [
    {
     "name": "stdout",
     "output_type": "stream",
     "text": [
      "Неразмеченные данные: 8%\n"
     ]
    }
   ],
   "source": [
    "print (\"Неразмеченные данные:\", str(round(100*len(optics_labels[optics_labels==-1])/len(train_data_mm)))+\"%\")"
   ]
  },
  {
   "cell_type": "code",
   "execution_count": 23,
   "metadata": {},
   "outputs": [
    {
     "name": "stdout",
     "output_type": "stream",
     "text": [
      "-0.3489323364405761\n"
     ]
    }
   ],
   "source": [
    "print(1 - metrics.davies_bouldin_score(train_data_mm[0:50000], optics_labels))"
   ]
  },
  {
   "cell_type": "code",
   "execution_count": 24,
   "metadata": {},
   "outputs": [
    {
     "name": "stdout",
     "output_type": "stream",
     "text": [
      "[  -1    0    1 ... 2404 2405 2406]\n"
     ]
    }
   ],
   "source": [
    "print (np.unique(optics_labels))"
   ]
  },
  {
   "cell_type": "markdown",
   "metadata": {},
   "source": [
    "Элементы первого кластера"
   ]
  },
  {
   "cell_type": "code",
   "execution_count": 31,
   "metadata": {},
   "outputs": [
    {
     "data": {
      "text/html": [
       "<div>\n",
       "<style scoped>\n",
       "    .dataframe tbody tr th:only-of-type {\n",
       "        vertical-align: middle;\n",
       "    }\n",
       "\n",
       "    .dataframe tbody tr th {\n",
       "        vertical-align: top;\n",
       "    }\n",
       "\n",
       "    .dataframe thead th {\n",
       "        text-align: right;\n",
       "    }\n",
       "</style>\n",
       "<table border=\"1\" class=\"dataframe\">\n",
       "  <thead>\n",
       "    <tr style=\"text-align: right;\">\n",
       "      <th></th>\n",
       "      <th>total_area</th>\n",
       "      <th>ceiling_height</th>\n",
       "      <th>rooms</th>\n",
       "      <th>living_area</th>\n",
       "      <th>price</th>\n",
       "      <th>day_mean</th>\n",
       "      <th>doy_108</th>\n",
       "      <th>price_locality_name_median</th>\n",
       "      <th>target</th>\n",
       "    </tr>\n",
       "  </thead>\n",
       "  <tbody>\n",
       "    <tr>\n",
       "      <th>20473</th>\n",
       "      <td>75.0</td>\n",
       "      <td>3.0</td>\n",
       "      <td>3</td>\n",
       "      <td>48.000000</td>\n",
       "      <td>50000</td>\n",
       "      <td>2.437738</td>\n",
       "      <td>0</td>\n",
       "      <td>1.190476</td>\n",
       "      <td>1</td>\n",
       "    </tr>\n",
       "    <tr>\n",
       "      <th>20748</th>\n",
       "      <td>68.0</td>\n",
       "      <td>3.0</td>\n",
       "      <td>3</td>\n",
       "      <td>54.000000</td>\n",
       "      <td>82000</td>\n",
       "      <td>2.502800</td>\n",
       "      <td>0</td>\n",
       "      <td>1.952381</td>\n",
       "      <td>1</td>\n",
       "    </tr>\n",
       "    <tr>\n",
       "      <th>22087</th>\n",
       "      <td>72.0</td>\n",
       "      <td>3.0</td>\n",
       "      <td>3</td>\n",
       "      <td>48.000000</td>\n",
       "      <td>100000</td>\n",
       "      <td>2.437738</td>\n",
       "      <td>0</td>\n",
       "      <td>2.380952</td>\n",
       "      <td>1</td>\n",
       "    </tr>\n",
       "    <tr>\n",
       "      <th>22775</th>\n",
       "      <td>84.0</td>\n",
       "      <td>3.0</td>\n",
       "      <td>3</td>\n",
       "      <td>45.700001</td>\n",
       "      <td>115000</td>\n",
       "      <td>2.534626</td>\n",
       "      <td>0</td>\n",
       "      <td>2.738095</td>\n",
       "      <td>1</td>\n",
       "    </tr>\n",
       "    <tr>\n",
       "      <th>22973</th>\n",
       "      <td>79.0</td>\n",
       "      <td>3.0</td>\n",
       "      <td>3</td>\n",
       "      <td>49.000000</td>\n",
       "      <td>90000</td>\n",
       "      <td>2.478689</td>\n",
       "      <td>0</td>\n",
       "      <td>2.142857</td>\n",
       "      <td>1</td>\n",
       "    </tr>\n",
       "    <tr>\n",
       "      <th>26315</th>\n",
       "      <td>82.0</td>\n",
       "      <td>3.0</td>\n",
       "      <td>3</td>\n",
       "      <td>55.000000</td>\n",
       "      <td>60000</td>\n",
       "      <td>2.517241</td>\n",
       "      <td>0</td>\n",
       "      <td>1.714286</td>\n",
       "      <td>1</td>\n",
       "    </tr>\n",
       "    <tr>\n",
       "      <th>26418</th>\n",
       "      <td>70.0</td>\n",
       "      <td>3.0</td>\n",
       "      <td>3</td>\n",
       "      <td>49.000000</td>\n",
       "      <td>60000</td>\n",
       "      <td>2.432781</td>\n",
       "      <td>0</td>\n",
       "      <td>1.428571</td>\n",
       "      <td>1</td>\n",
       "    </tr>\n",
       "    <tr>\n",
       "      <th>29892</th>\n",
       "      <td>96.0</td>\n",
       "      <td>3.0</td>\n",
       "      <td>3</td>\n",
       "      <td>49.000000</td>\n",
       "      <td>38000</td>\n",
       "      <td>2.489717</td>\n",
       "      <td>0</td>\n",
       "      <td>1.652174</td>\n",
       "      <td>1</td>\n",
       "    </tr>\n",
       "    <tr>\n",
       "      <th>35512</th>\n",
       "      <td>93.0</td>\n",
       "      <td>3.0</td>\n",
       "      <td>3</td>\n",
       "      <td>47.000000</td>\n",
       "      <td>50000</td>\n",
       "      <td>2.437738</td>\n",
       "      <td>0</td>\n",
       "      <td>1.666667</td>\n",
       "      <td>1</td>\n",
       "    </tr>\n",
       "    <tr>\n",
       "      <th>48706</th>\n",
       "      <td>65.0</td>\n",
       "      <td>3.0</td>\n",
       "      <td>3</td>\n",
       "      <td>43.000000</td>\n",
       "      <td>35000</td>\n",
       "      <td>2.495468</td>\n",
       "      <td>0</td>\n",
       "      <td>1.346154</td>\n",
       "      <td>1</td>\n",
       "    </tr>\n",
       "  </tbody>\n",
       "</table>\n",
       "</div>"
      ],
      "text/plain": [
       "       total_area  ceiling_height  rooms  living_area   price  day_mean  \\\n",
       "20473        75.0             3.0      3    48.000000   50000  2.437738   \n",
       "20748        68.0             3.0      3    54.000000   82000  2.502800   \n",
       "22087        72.0             3.0      3    48.000000  100000  2.437738   \n",
       "22775        84.0             3.0      3    45.700001  115000  2.534626   \n",
       "22973        79.0             3.0      3    49.000000   90000  2.478689   \n",
       "26315        82.0             3.0      3    55.000000   60000  2.517241   \n",
       "26418        70.0             3.0      3    49.000000   60000  2.432781   \n",
       "29892        96.0             3.0      3    49.000000   38000  2.489717   \n",
       "35512        93.0             3.0      3    47.000000   50000  2.437738   \n",
       "48706        65.0             3.0      3    43.000000   35000  2.495468   \n",
       "\n",
       "       doy_108  price_locality_name_median  target  \n",
       "20473        0                    1.190476       1  \n",
       "20748        0                    1.952381       1  \n",
       "22087        0                    2.380952       1  \n",
       "22775        0                    2.738095       1  \n",
       "22973        0                    2.142857       1  \n",
       "26315        0                    1.714286       1  \n",
       "26418        0                    1.428571       1  \n",
       "29892        0                    1.652174       1  \n",
       "35512        0                    1.666667       1  \n",
       "48706        0                    1.346154       1  "
      ]
     },
     "execution_count": 31,
     "metadata": {},
     "output_type": "execute_result"
    }
   ],
   "source": [
    "train_data.iloc[list(np.where(optics_labels==0)[0])]"
   ]
  }
 ],
 "metadata": {
  "colab": {
   "collapsed_sections": [],
   "name": "Finally.ipynb",
   "provenance": []
  },
  "kernelspec": {
   "display_name": "Python 3",
   "language": "python",
   "name": "python3"
  },
  "language_info": {
   "codemirror_mode": {
    "name": "ipython",
    "version": 3
   },
   "file_extension": ".py",
   "mimetype": "text/x-python",
   "name": "python",
   "nbconvert_exporter": "python",
   "pygments_lexer": "ipython3",
   "version": "3.8.3"
  }
 },
 "nbformat": 4,
 "nbformat_minor": 1
}
